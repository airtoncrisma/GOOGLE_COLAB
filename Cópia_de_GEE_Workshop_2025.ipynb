{
  "cells": [
    {
      "cell_type": "markdown",
      "metadata": {
        "id": "view-in-github",
        "colab_type": "text"
      },
      "source": [
        "<a href=\"https://colab.research.google.com/github/airtoncrisma/GOOGLE_COLAB/blob/main/C%C3%B3pia_de_GEE_Workshop_2025.ipynb\" target=\"_parent\"><img src=\"https://colab.research.google.com/assets/colab-badge.svg\" alt=\"Open In Colab\"/></a>"
      ]
    },
    {
      "cell_type": "markdown",
      "id": "0",
      "metadata": {
        "id": "0"
      },
      "source": [
        "[![image](https://colab.research.google.com/assets/colab-badge.svg)](https://colab.research.google.com/github/gee-community/geemap/blob/master/docs/workshops/GEE_Workshop_2025.ipynb)\n",
        "\n",
        "**Geospatial Data Analysis and Visualization with Earth Engine**\n",
        "\n",
        "-   Notebook: <https://geemap.org/workshops/GEE_Workshop_2025>\n",
        "-   Earth Engine: <https://earthengine.google.com>\n",
        "-   Geemap: <https://geemap.org>\n",
        "\n",
        "## Introduction\n",
        "\n",
        "This notebook contains the materials for the workshop **Geospatial Data Analysis and Visualization with Earth Engine** at the 第八届地球空间大数据与云计算研讨会.\n",
        "\n",
        "### Agenda\n",
        "\n",
        "This workshop covers the following topics:\n",
        "- Colab setup\n",
        "- Data visualization in 3D\n",
        "- Creating timelapse animations\n",
        "- Exporting Earth Engine data\n",
        "- Charts\n",
        "\n",
        "\n",
        "### Prerequisites\n",
        "\n",
        "-   To use geemap and the Earth Engine Python API, you must [register](https://code.earthengine.google.com/register) for an Earth Engine account and follow the instructions [here](https://docs.google.com/document/d/1ZGSmrNm6_baqd8CHt33kIBWOlvkh-HLr46bODgJN1h0/edit?usp=sharing) to create a Cloud Project. Earth Engine is free for [noncommercial and research use](https://earthengine.google.com/noncommercial). To test whether you can use authenticate the Earth Engine Python API, please run [this notebook](https://colab.research.google.com/github/gee-community/geemap/blob/master/docs/notebooks/geemap_colab.ipynb) on Google Colab.\n",
        "\n",
        "## Technical requirements\n",
        "\n",
        "### Install packages\n",
        "\n",
        "```bash\n",
        "conda create -n gee python=3.12\n",
        "conda activate gee\n",
        "conda install -c conda-forge mamba\n",
        "mamba install -c conda-forge geemap leafmap maplibre\n",
        "```"
      ]
    },
    {
      "cell_type": "code",
      "execution_count": null,
      "id": "1",
      "metadata": {
        "collapsed": true,
        "id": "1",
        "outputId": "d21acd39-ae29-469d-fd3e-ffb94b52e76f",
        "colab": {
          "base_uri": "https://localhost:8080/",
          "height": 1000
        }
      },
      "outputs": [
        {
          "output_type": "display_data",
          "data": {
            "text/plain": [
              "<IPython.core.display.HTML object>"
            ],
            "text/html": [
              "\n",
              "            <style>\n",
              "                .geemap-dark {\n",
              "                    --jp-widgets-color: white;\n",
              "                    --jp-widgets-label-color: white;\n",
              "                    --jp-ui-font-color1: white;\n",
              "                    --jp-layout-color2: #454545;\n",
              "                    background-color: #383838;\n",
              "                }\n",
              "\n",
              "                .geemap-dark .jupyter-button {\n",
              "                    --jp-layout-color3: #383838;\n",
              "                }\n",
              "\n",
              "                .geemap-colab {\n",
              "                    background-color: var(--colab-primary-surface-color, white);\n",
              "                }\n",
              "\n",
              "                .geemap-colab .jupyter-button {\n",
              "                    --jp-layout-color3: var(--colab-primary-surface-color, white);\n",
              "                }\n",
              "            </style>\n",
              "            "
            ]
          },
          "metadata": {}
        },
        {
          "output_type": "stream",
          "name": "stdout",
          "text": [
            "Collecting leafmap\n",
            "  Downloading leafmap-0.47.2-py2.py3-none-any.whl.metadata (16 kB)\n",
            "Collecting maplibre\n",
            "  Downloading maplibre-0.3.3-py3-none-any.whl.metadata (3.9 kB)\n",
            "Requirement already satisfied: geemap[workshop] in /usr/local/lib/python3.11/dist-packages (0.35.3)\n",
            "Requirement already satisfied: bqplot in /usr/local/lib/python3.11/dist-packages (from geemap[workshop]) (0.12.45)\n",
            "Requirement already satisfied: colour in /usr/local/lib/python3.11/dist-packages (from geemap[workshop]) (0.1.5)\n",
            "Requirement already satisfied: earthengine-api>=1.0.0 in /usr/local/lib/python3.11/dist-packages (from geemap[workshop]) (1.5.17)\n",
            "Requirement already satisfied: eerepr>=0.1.0 in /usr/local/lib/python3.11/dist-packages (from geemap[workshop]) (0.1.2)\n",
            "Requirement already satisfied: folium>=0.17.0 in /usr/local/lib/python3.11/dist-packages (from geemap[workshop]) (0.19.6)\n",
            "Requirement already satisfied: geocoder in /usr/local/lib/python3.11/dist-packages (from geemap[workshop]) (1.38.1)\n",
            "Requirement already satisfied: ipyevents in /usr/local/lib/python3.11/dist-packages (from geemap[workshop]) (2.0.2)\n",
            "Requirement already satisfied: ipyfilechooser>=0.6.0 in /usr/local/lib/python3.11/dist-packages (from geemap[workshop]) (0.6.0)\n",
            "Requirement already satisfied: ipyleaflet>=0.19.2 in /usr/local/lib/python3.11/dist-packages (from geemap[workshop]) (0.19.2)\n",
            "Requirement already satisfied: ipytree in /usr/local/lib/python3.11/dist-packages (from geemap[workshop]) (0.2.2)\n",
            "Requirement already satisfied: matplotlib in /usr/local/lib/python3.11/dist-packages (from geemap[workshop]) (3.10.0)\n",
            "Requirement already satisfied: numpy in /usr/local/lib/python3.11/dist-packages (from geemap[workshop]) (2.0.2)\n",
            "Requirement already satisfied: pandas in /usr/local/lib/python3.11/dist-packages (from geemap[workshop]) (2.2.2)\n",
            "Requirement already satisfied: plotly in /usr/local/lib/python3.11/dist-packages (from geemap[workshop]) (5.24.1)\n",
            "Requirement already satisfied: pyperclip in /usr/local/lib/python3.11/dist-packages (from geemap[workshop]) (1.9.0)\n",
            "Requirement already satisfied: pyshp>=2.3.1 in /usr/local/lib/python3.11/dist-packages (from geemap[workshop]) (2.3.1)\n",
            "Requirement already satisfied: python-box in /usr/local/lib/python3.11/dist-packages (from geemap[workshop]) (7.3.2)\n",
            "Requirement already satisfied: scooby in /usr/local/lib/python3.11/dist-packages (from geemap[workshop]) (0.10.1)\n",
            "Requirement already satisfied: geopandas in /usr/local/lib/python3.11/dist-packages (from geemap[workshop]) (1.0.1)\n",
            "Collecting geedim (from geemap[workshop])\n",
            "  Downloading geedim-1.9.1-py3-none-any.whl.metadata (13 kB)\n",
            "Collecting ffmpeg-python (from geemap[workshop])\n",
            "  Downloading ffmpeg_python-0.2.0-py3-none-any.whl.metadata (1.7 kB)\n",
            "Requirement already satisfied: gdown in /usr/local/lib/python3.11/dist-packages (from geemap[workshop]) (5.2.0)\n",
            "Collecting anywidget (from leafmap)\n",
            "  Downloading anywidget-0.9.18-py3-none-any.whl.metadata (8.9 kB)\n",
            "Requirement already satisfied: duckdb in /usr/local/lib/python3.11/dist-packages (from leafmap) (1.2.2)\n",
            "Collecting geojson (from leafmap)\n",
            "  Downloading geojson-3.2.0-py3-none-any.whl.metadata (16 kB)\n",
            "Requirement already satisfied: h5netcdf in /usr/local/lib/python3.11/dist-packages (from leafmap) (1.6.1)\n",
            "Requirement already satisfied: h5py in /usr/local/lib/python3.11/dist-packages (from leafmap) (3.13.0)\n",
            "Collecting ipyvuetify (from leafmap)\n",
            "  Downloading ipyvuetify-1.11.2-py2.py3-none-any.whl.metadata (7.5 kB)\n",
            "Requirement already satisfied: ipywidgets in /usr/local/lib/python3.11/dist-packages (from leafmap) (7.7.1)\n",
            "Collecting localtileserver (from leafmap)\n",
            "  Downloading localtileserver-0.10.6-py3-none-any.whl.metadata (5.2 kB)\n",
            "Collecting opera-utils (from leafmap)\n",
            "  Downloading opera_utils-0.22.0-py3-none-any.whl.metadata (6.7 kB)\n",
            "Requirement already satisfied: psutil in /usr/local/lib/python3.11/dist-packages (from leafmap) (5.9.5)\n",
            "Collecting pystac-client (from leafmap)\n",
            "  Downloading pystac_client-0.8.6-py3-none-any.whl.metadata (3.0 kB)\n",
            "Collecting rioxarray (from leafmap)\n",
            "  Downloading rioxarray-0.19.0-py3-none-any.whl.metadata (5.5 kB)\n",
            "Collecting whiteboxgui (from leafmap)\n",
            "  Downloading whiteboxgui-2.3.0-py2.py3-none-any.whl.metadata (5.7 kB)\n",
            "Requirement already satisfied: xyzservices in /usr/local/lib/python3.11/dist-packages (from leafmap) (2025.4.0)\n",
            "Requirement already satisfied: branca in /usr/local/lib/python3.11/dist-packages (from maplibre) (0.8.1)\n",
            "Collecting eval-type-backport (from maplibre)\n",
            "  Downloading eval_type_backport-0.2.2-py3-none-any.whl.metadata (2.2 kB)\n",
            "Requirement already satisfied: jinja2>=3.1.5 in /usr/local/lib/python3.11/dist-packages (from maplibre) (3.1.6)\n",
            "Requirement already satisfied: pydantic>=2.5.3 in /usr/local/lib/python3.11/dist-packages (from maplibre) (2.11.5)\n",
            "Requirement already satisfied: google-cloud-storage in /usr/local/lib/python3.11/dist-packages (from earthengine-api>=1.0.0->geemap[workshop]) (2.19.0)\n",
            "Requirement already satisfied: google-api-python-client>=1.12.1 in /usr/local/lib/python3.11/dist-packages (from earthengine-api>=1.0.0->geemap[workshop]) (2.170.0)\n",
            "Requirement already satisfied: google-auth>=1.4.1 in /usr/local/lib/python3.11/dist-packages (from earthengine-api>=1.0.0->geemap[workshop]) (2.38.0)\n",
            "Requirement already satisfied: google-auth-httplib2>=0.0.3 in /usr/local/lib/python3.11/dist-packages (from earthengine-api>=1.0.0->geemap[workshop]) (0.2.0)\n",
            "Requirement already satisfied: httplib2<1dev,>=0.9.2 in /usr/local/lib/python3.11/dist-packages (from earthengine-api>=1.0.0->geemap[workshop]) (0.22.0)\n",
            "Requirement already satisfied: requests in /usr/local/lib/python3.11/dist-packages (from earthengine-api>=1.0.0->geemap[workshop]) (2.32.3)\n",
            "Requirement already satisfied: jupyter-leaflet<0.20,>=0.19 in /usr/local/lib/python3.11/dist-packages (from ipyleaflet>=0.19.2->geemap[workshop]) (0.19.2)\n",
            "Requirement already satisfied: traittypes<3,>=0.2.1 in /usr/local/lib/python3.11/dist-packages (from ipyleaflet>=0.19.2->geemap[workshop]) (0.2.1)\n",
            "Requirement already satisfied: ipykernel>=4.5.1 in /usr/local/lib/python3.11/dist-packages (from ipywidgets->leafmap) (6.17.1)\n",
            "Requirement already satisfied: ipython-genutils~=0.2.0 in /usr/local/lib/python3.11/dist-packages (from ipywidgets->leafmap) (0.2.0)\n",
            "Requirement already satisfied: traitlets>=4.3.1 in /usr/local/lib/python3.11/dist-packages (from ipywidgets->leafmap) (5.7.1)\n",
            "Requirement already satisfied: widgetsnbextension~=3.6.0 in /usr/local/lib/python3.11/dist-packages (from ipywidgets->leafmap) (3.6.10)\n",
            "Requirement already satisfied: ipython>=4.0.0 in /usr/local/lib/python3.11/dist-packages (from ipywidgets->leafmap) (7.34.0)\n",
            "Requirement already satisfied: jupyterlab-widgets>=1.0.0 in /usr/local/lib/python3.11/dist-packages (from ipywidgets->leafmap) (3.0.15)\n",
            "Requirement already satisfied: MarkupSafe>=2.0 in /usr/local/lib/python3.11/dist-packages (from jinja2>=3.1.5->maplibre) (3.0.2)\n",
            "Requirement already satisfied: annotated-types>=0.6.0 in /usr/local/lib/python3.11/dist-packages (from pydantic>=2.5.3->maplibre) (0.7.0)\n",
            "Requirement already satisfied: pydantic-core==2.33.2 in /usr/local/lib/python3.11/dist-packages (from pydantic>=2.5.3->maplibre) (2.33.2)\n",
            "Requirement already satisfied: typing-extensions>=4.12.2 in /usr/local/lib/python3.11/dist-packages (from pydantic>=2.5.3->maplibre) (4.13.2)\n",
            "Requirement already satisfied: typing-inspection>=0.4.0 in /usr/local/lib/python3.11/dist-packages (from pydantic>=2.5.3->maplibre) (0.4.1)\n",
            "Collecting psygnal>=0.8.1 (from anywidget->leafmap)\n",
            "  Downloading psygnal-0.13.0-cp311-cp311-manylinux_2_17_x86_64.manylinux2014_x86_64.whl.metadata (6.0 kB)\n",
            "Requirement already satisfied: python-dateutil>=2.8.2 in /usr/local/lib/python3.11/dist-packages (from pandas->geemap[workshop]) (2.9.0.post0)\n",
            "Requirement already satisfied: pytz>=2020.1 in /usr/local/lib/python3.11/dist-packages (from pandas->geemap[workshop]) (2025.2)\n",
            "Requirement already satisfied: tzdata>=2022.7 in /usr/local/lib/python3.11/dist-packages (from pandas->geemap[workshop]) (2025.2)\n",
            "Requirement already satisfied: future in /usr/local/lib/python3.11/dist-packages (from ffmpeg-python->geemap[workshop]) (1.0.0)\n",
            "Requirement already satisfied: beautifulsoup4 in /usr/local/lib/python3.11/dist-packages (from gdown->geemap[workshop]) (4.13.4)\n",
            "Requirement already satisfied: filelock in /usr/local/lib/python3.11/dist-packages (from gdown->geemap[workshop]) (3.18.0)\n",
            "Requirement already satisfied: tqdm in /usr/local/lib/python3.11/dist-packages (from gdown->geemap[workshop]) (4.67.1)\n",
            "Collecting rasterio>=1.3.8 (from geedim->geemap[workshop])\n",
            "  Downloading rasterio-1.4.3-cp311-cp311-manylinux_2_17_x86_64.manylinux2014_x86_64.whl.metadata (9.1 kB)\n",
            "Requirement already satisfied: click>=8 in /usr/local/lib/python3.11/dist-packages (from geedim->geemap[workshop]) (8.2.1)\n",
            "Requirement already satisfied: tabulate>=0.8 in /usr/local/lib/python3.11/dist-packages (from geedim->geemap[workshop]) (0.9.0)\n",
            "Requirement already satisfied: ratelim in /usr/local/lib/python3.11/dist-packages (from geocoder->geemap[workshop]) (0.1.6)\n",
            "Requirement already satisfied: six in /usr/local/lib/python3.11/dist-packages (from geocoder->geemap[workshop]) (1.17.0)\n",
            "Requirement already satisfied: pyogrio>=0.7.2 in /usr/local/lib/python3.11/dist-packages (from geopandas->geemap[workshop]) (0.11.0)\n",
            "Requirement already satisfied: packaging in /usr/local/lib/python3.11/dist-packages (from geopandas->geemap[workshop]) (24.2)\n",
            "Requirement already satisfied: pyproj>=3.3.0 in /usr/local/lib/python3.11/dist-packages (from geopandas->geemap[workshop]) (3.7.1)\n",
            "Requirement already satisfied: shapely>=2.0.0 in /usr/local/lib/python3.11/dist-packages (from geopandas->geemap[workshop]) (2.1.1)\n",
            "Collecting ipyvue<2,>=1.7 (from ipyvuetify->leafmap)\n",
            "  Downloading ipyvue-1.11.2-py2.py3-none-any.whl.metadata (1.1 kB)\n",
            "Requirement already satisfied: flask<4,>=2.0.0 in /usr/local/lib/python3.11/dist-packages (from localtileserver->leafmap) (3.1.1)\n",
            "Collecting Flask-Caching (from localtileserver->leafmap)\n",
            "  Downloading Flask_Caching-2.3.1-py3-none-any.whl.metadata (2.2 kB)\n",
            "Collecting flask-cors (from localtileserver->leafmap)\n",
            "  Downloading flask_cors-6.0.0-py3-none-any.whl.metadata (961 bytes)\n",
            "Collecting flask-restx>=1.3.0 (from localtileserver->leafmap)\n",
            "  Downloading flask_restx-1.3.0-py2.py3-none-any.whl.metadata (9.3 kB)\n",
            "Collecting rio-tiler (from localtileserver->leafmap)\n",
            "  Downloading rio_tiler-7.8.0-py3-none-any.whl.metadata (12 kB)\n",
            "Collecting rio-cogeo (from localtileserver->leafmap)\n",
            "  Downloading rio_cogeo-5.4.1-py3-none-any.whl.metadata (4.7 kB)\n",
            "Collecting server-thread (from localtileserver->leafmap)\n",
            "  Downloading server_thread-0.3.0-py3-none-any.whl.metadata (5.3 kB)\n",
            "Requirement already satisfied: werkzeug in /usr/local/lib/python3.11/dist-packages (from localtileserver->leafmap) (3.1.3)\n",
            "Requirement already satisfied: contourpy>=1.0.1 in /usr/local/lib/python3.11/dist-packages (from matplotlib->geemap[workshop]) (1.3.2)\n",
            "Requirement already satisfied: cycler>=0.10 in /usr/local/lib/python3.11/dist-packages (from matplotlib->geemap[workshop]) (0.12.1)\n",
            "Requirement already satisfied: fonttools>=4.22.0 in /usr/local/lib/python3.11/dist-packages (from matplotlib->geemap[workshop]) (4.58.1)\n",
            "Requirement already satisfied: kiwisolver>=1.3.1 in /usr/local/lib/python3.11/dist-packages (from matplotlib->geemap[workshop]) (1.4.8)\n",
            "Requirement already satisfied: pillow>=8 in /usr/local/lib/python3.11/dist-packages (from matplotlib->geemap[workshop]) (11.2.1)\n",
            "Requirement already satisfied: pyparsing>=2.3.1 in /usr/local/lib/python3.11/dist-packages (from matplotlib->geemap[workshop]) (3.2.3)\n",
            "Requirement already satisfied: pooch>=1.7 in /usr/local/lib/python3.11/dist-packages (from opera-utils->leafmap) (1.8.2)\n",
            "Collecting tyro>=0.9 (from opera-utils->leafmap)\n",
            "  Downloading tyro-0.9.24-py3-none-any.whl.metadata (11 kB)\n",
            "Requirement already satisfied: tenacity>=6.2.0 in /usr/local/lib/python3.11/dist-packages (from plotly->geemap[workshop]) (9.1.2)\n",
            "Collecting pystac>=1.10.0 (from pystac[validation]>=1.10.0->pystac-client->leafmap)\n",
            "  Downloading pystac-1.13.0-py3-none-any.whl.metadata (4.7 kB)\n",
            "Requirement already satisfied: xarray>=2024.7.0 in /usr/local/lib/python3.11/dist-packages (from rioxarray->leafmap) (2025.3.1)\n",
            "Collecting whitebox (from whiteboxgui->leafmap)\n",
            "  Downloading whitebox-2.3.6-py2.py3-none-any.whl.metadata (11 kB)\n",
            "Requirement already satisfied: blinker>=1.9.0 in /usr/local/lib/python3.11/dist-packages (from flask<4,>=2.0.0->localtileserver->leafmap) (1.9.0)\n",
            "Requirement already satisfied: itsdangerous>=2.2.0 in /usr/local/lib/python3.11/dist-packages (from flask<4,>=2.0.0->localtileserver->leafmap) (2.2.0)\n",
            "Collecting aniso8601>=0.82 (from flask-restx>=1.3.0->localtileserver->leafmap)\n",
            "  Downloading aniso8601-10.0.1-py2.py3-none-any.whl.metadata (23 kB)\n",
            "Requirement already satisfied: jsonschema in /usr/local/lib/python3.11/dist-packages (from flask-restx>=1.3.0->localtileserver->leafmap) (4.24.0)\n",
            "Requirement already satisfied: importlib-resources in /usr/local/lib/python3.11/dist-packages (from flask-restx>=1.3.0->localtileserver->leafmap) (6.5.2)\n",
            "Requirement already satisfied: google-api-core!=2.0.*,!=2.1.*,!=2.2.*,!=2.3.0,<3.0.0,>=1.31.5 in /usr/local/lib/python3.11/dist-packages (from google-api-python-client>=1.12.1->earthengine-api>=1.0.0->geemap[workshop]) (2.24.2)\n",
            "Requirement already satisfied: uritemplate<5,>=3.0.1 in /usr/local/lib/python3.11/dist-packages (from google-api-python-client>=1.12.1->earthengine-api>=1.0.0->geemap[workshop]) (4.1.1)\n",
            "Requirement already satisfied: cachetools<6.0,>=2.0.0 in /usr/local/lib/python3.11/dist-packages (from google-auth>=1.4.1->earthengine-api>=1.0.0->geemap[workshop]) (5.5.2)\n",
            "Requirement already satisfied: pyasn1-modules>=0.2.1 in /usr/local/lib/python3.11/dist-packages (from google-auth>=1.4.1->earthengine-api>=1.0.0->geemap[workshop]) (0.4.2)\n",
            "Requirement already satisfied: rsa<5,>=3.1.4 in /usr/local/lib/python3.11/dist-packages (from google-auth>=1.4.1->earthengine-api>=1.0.0->geemap[workshop]) (4.9.1)\n",
            "Requirement already satisfied: debugpy>=1.0 in /usr/local/lib/python3.11/dist-packages (from ipykernel>=4.5.1->ipywidgets->leafmap) (1.8.0)\n",
            "Requirement already satisfied: jupyter-client>=6.1.12 in /usr/local/lib/python3.11/dist-packages (from ipykernel>=4.5.1->ipywidgets->leafmap) (6.1.12)\n",
            "Requirement already satisfied: matplotlib-inline>=0.1 in /usr/local/lib/python3.11/dist-packages (from ipykernel>=4.5.1->ipywidgets->leafmap) (0.1.7)\n",
            "Requirement already satisfied: nest-asyncio in /usr/local/lib/python3.11/dist-packages (from ipykernel>=4.5.1->ipywidgets->leafmap) (1.6.0)\n",
            "Requirement already satisfied: pyzmq>=17 in /usr/local/lib/python3.11/dist-packages (from ipykernel>=4.5.1->ipywidgets->leafmap) (24.0.1)\n",
            "Requirement already satisfied: tornado>=6.1 in /usr/local/lib/python3.11/dist-packages (from ipykernel>=4.5.1->ipywidgets->leafmap) (6.4.2)\n",
            "Requirement already satisfied: setuptools>=18.5 in /usr/local/lib/python3.11/dist-packages (from ipython>=4.0.0->ipywidgets->leafmap) (75.2.0)\n",
            "Collecting jedi>=0.16 (from ipython>=4.0.0->ipywidgets->leafmap)\n",
            "  Downloading jedi-0.19.2-py2.py3-none-any.whl.metadata (22 kB)\n",
            "Requirement already satisfied: decorator in /usr/local/lib/python3.11/dist-packages (from ipython>=4.0.0->ipywidgets->leafmap) (4.4.2)\n",
            "Requirement already satisfied: pickleshare in /usr/local/lib/python3.11/dist-packages (from ipython>=4.0.0->ipywidgets->leafmap) (0.7.5)\n",
            "Requirement already satisfied: prompt-toolkit!=3.0.0,!=3.0.1,<3.1.0,>=2.0.0 in /usr/local/lib/python3.11/dist-packages (from ipython>=4.0.0->ipywidgets->leafmap) (3.0.51)\n",
            "Requirement already satisfied: pygments in /usr/local/lib/python3.11/dist-packages (from ipython>=4.0.0->ipywidgets->leafmap) (2.19.1)\n",
            "Requirement already satisfied: backcall in /usr/local/lib/python3.11/dist-packages (from ipython>=4.0.0->ipywidgets->leafmap) (0.2.0)\n",
            "Requirement already satisfied: pexpect>4.3 in /usr/local/lib/python3.11/dist-packages (from ipython>=4.0.0->ipywidgets->leafmap) (4.9.0)\n",
            "Requirement already satisfied: platformdirs>=2.5.0 in /usr/local/lib/python3.11/dist-packages (from pooch>=1.7->opera-utils->leafmap) (4.3.8)\n",
            "Requirement already satisfied: certifi in /usr/local/lib/python3.11/dist-packages (from pyogrio>=0.7.2->geopandas->geemap[workshop]) (2025.4.26)\n",
            "Collecting affine (from rasterio>=1.3.8->geedim->geemap[workshop])\n",
            "  Downloading affine-2.4.0-py3-none-any.whl.metadata (4.0 kB)\n",
            "Requirement already satisfied: attrs in /usr/local/lib/python3.11/dist-packages (from rasterio>=1.3.8->geedim->geemap[workshop]) (25.3.0)\n",
            "Collecting cligj>=0.5 (from rasterio>=1.3.8->geedim->geemap[workshop])\n",
            "  Downloading cligj-0.7.2-py3-none-any.whl.metadata (5.0 kB)\n",
            "Collecting click-plugins (from rasterio>=1.3.8->geedim->geemap[workshop])\n",
            "  Downloading click_plugins-1.1.1-py2.py3-none-any.whl.metadata (6.4 kB)\n",
            "Requirement already satisfied: charset-normalizer<4,>=2 in /usr/local/lib/python3.11/dist-packages (from requests->earthengine-api>=1.0.0->geemap[workshop]) (3.4.2)\n",
            "Requirement already satisfied: idna<4,>=2.5 in /usr/local/lib/python3.11/dist-packages (from requests->earthengine-api>=1.0.0->geemap[workshop]) (3.10)\n",
            "Requirement already satisfied: urllib3<3,>=1.21.1 in /usr/local/lib/python3.11/dist-packages (from requests->earthengine-api>=1.0.0->geemap[workshop]) (2.4.0)\n",
            "Requirement already satisfied: docstring-parser>=0.15 in /usr/local/lib/python3.11/dist-packages (from tyro>=0.9->opera-utils->leafmap) (0.16)\n",
            "Requirement already satisfied: rich>=11.1.0 in /usr/local/lib/python3.11/dist-packages (from tyro>=0.9->opera-utils->leafmap) (13.9.4)\n",
            "Collecting shtab>=1.5.6 (from tyro>=0.9->opera-utils->leafmap)\n",
            "  Downloading shtab-1.7.2-py3-none-any.whl.metadata (7.4 kB)\n",
            "Requirement already satisfied: typeguard>=4.0.0 in /usr/local/lib/python3.11/dist-packages (from tyro>=0.9->opera-utils->leafmap) (4.4.2)\n",
            "Requirement already satisfied: notebook>=4.4.1 in /usr/local/lib/python3.11/dist-packages (from widgetsnbextension~=3.6.0->ipywidgets->leafmap) (6.5.7)\n",
            "Requirement already satisfied: soupsieve>1.2 in /usr/local/lib/python3.11/dist-packages (from beautifulsoup4->gdown->geemap[workshop]) (2.7)\n",
            "Collecting cachelib>=0.9.0 (from Flask-Caching->localtileserver->leafmap)\n",
            "  Downloading cachelib-0.13.0-py3-none-any.whl.metadata (2.0 kB)\n",
            "Requirement already satisfied: google-cloud-core<3.0dev,>=2.3.0 in /usr/local/lib/python3.11/dist-packages (from google-cloud-storage->earthengine-api>=1.0.0->geemap[workshop]) (2.4.3)\n",
            "Requirement already satisfied: google-resumable-media>=2.7.2 in /usr/local/lib/python3.11/dist-packages (from google-cloud-storage->earthengine-api>=1.0.0->geemap[workshop]) (2.7.2)\n",
            "Requirement already satisfied: google-crc32c<2.0dev,>=1.0 in /usr/local/lib/python3.11/dist-packages (from google-cloud-storage->earthengine-api>=1.0.0->geemap[workshop]) (1.7.1)\n",
            "Requirement already satisfied: PySocks!=1.5.7,>=1.5.6 in /usr/local/lib/python3.11/dist-packages (from requests[socks]->gdown->geemap[workshop]) (1.7.1)\n",
            "Collecting morecantile<7.0,>=5.0 (from rio-cogeo->localtileserver->leafmap)\n",
            "  Downloading morecantile-6.2.0-py3-none-any.whl.metadata (7.3 kB)\n",
            "Collecting color-operations (from rio-tiler->localtileserver->leafmap)\n",
            "  Downloading color_operations-0.2.0-cp311-cp311-manylinux_2_5_x86_64.manylinux1_x86_64.manylinux_2_17_x86_64.manylinux2014_x86_64.whl.metadata (6.3 kB)\n",
            "Requirement already satisfied: httpx in /usr/local/lib/python3.11/dist-packages (from rio-tiler->localtileserver->leafmap) (0.28.1)\n",
            "Requirement already satisfied: numexpr in /usr/local/lib/python3.11/dist-packages (from rio-tiler->localtileserver->leafmap) (2.10.2)\n",
            "Requirement already satisfied: uvicorn in /usr/local/lib/python3.11/dist-packages (from server-thread->localtileserver->leafmap) (0.34.2)\n",
            "Requirement already satisfied: googleapis-common-protos<2.0.0,>=1.56.2 in /usr/local/lib/python3.11/dist-packages (from google-api-core!=2.0.*,!=2.1.*,!=2.2.*,!=2.3.0,<3.0.0,>=1.31.5->google-api-python-client>=1.12.1->earthengine-api>=1.0.0->geemap[workshop]) (1.70.0)\n",
            "Requirement already satisfied: protobuf!=3.20.0,!=3.20.1,!=4.21.0,!=4.21.1,!=4.21.2,!=4.21.3,!=4.21.4,!=4.21.5,<7.0.0,>=3.19.5 in /usr/local/lib/python3.11/dist-packages (from google-api-core!=2.0.*,!=2.1.*,!=2.2.*,!=2.3.0,<3.0.0,>=1.31.5->google-api-python-client>=1.12.1->earthengine-api>=1.0.0->geemap[workshop]) (5.29.5)\n",
            "Requirement already satisfied: proto-plus<2.0.0,>=1.22.3 in /usr/local/lib/python3.11/dist-packages (from google-api-core!=2.0.*,!=2.1.*,!=2.2.*,!=2.3.0,<3.0.0,>=1.31.5->google-api-python-client>=1.12.1->earthengine-api>=1.0.0->geemap[workshop]) (1.26.1)\n",
            "Requirement already satisfied: parso<0.9.0,>=0.8.4 in /usr/local/lib/python3.11/dist-packages (from jedi>=0.16->ipython>=4.0.0->ipywidgets->leafmap) (0.8.4)\n",
            "Requirement already satisfied: jsonschema-specifications>=2023.03.6 in /usr/local/lib/python3.11/dist-packages (from jsonschema->flask-restx>=1.3.0->localtileserver->leafmap) (2025.4.1)\n",
            "Requirement already satisfied: referencing>=0.28.4 in /usr/local/lib/python3.11/dist-packages (from jsonschema->flask-restx>=1.3.0->localtileserver->leafmap) (0.36.2)\n",
            "Requirement already satisfied: rpds-py>=0.7.1 in /usr/local/lib/python3.11/dist-packages (from jsonschema->flask-restx>=1.3.0->localtileserver->leafmap) (0.25.1)\n",
            "Requirement already satisfied: jupyter-core>=4.6.0 in /usr/local/lib/python3.11/dist-packages (from jupyter-client>=6.1.12->ipykernel>=4.5.1->ipywidgets->leafmap) (5.8.1)\n",
            "Requirement already satisfied: argon2-cffi in /usr/local/lib/python3.11/dist-packages (from notebook>=4.4.1->widgetsnbextension~=3.6.0->ipywidgets->leafmap) (23.1.0)\n",
            "Requirement already satisfied: nbformat in /usr/local/lib/python3.11/dist-packages (from notebook>=4.4.1->widgetsnbextension~=3.6.0->ipywidgets->leafmap) (5.10.4)\n",
            "Requirement already satisfied: nbconvert>=5 in /usr/local/lib/python3.11/dist-packages (from notebook>=4.4.1->widgetsnbextension~=3.6.0->ipywidgets->leafmap) (7.16.6)\n",
            "Requirement already satisfied: Send2Trash>=1.8.0 in /usr/local/lib/python3.11/dist-packages (from notebook>=4.4.1->widgetsnbextension~=3.6.0->ipywidgets->leafmap) (1.8.3)\n",
            "Requirement already satisfied: terminado>=0.8.3 in /usr/local/lib/python3.11/dist-packages (from notebook>=4.4.1->widgetsnbextension~=3.6.0->ipywidgets->leafmap) (0.18.1)\n",
            "Requirement already satisfied: prometheus-client in /usr/local/lib/python3.11/dist-packages (from notebook>=4.4.1->widgetsnbextension~=3.6.0->ipywidgets->leafmap) (0.22.0)\n",
            "Requirement already satisfied: nbclassic>=0.4.7 in /usr/local/lib/python3.11/dist-packages (from notebook>=4.4.1->widgetsnbextension~=3.6.0->ipywidgets->leafmap) (1.3.1)\n",
            "Requirement already satisfied: ptyprocess>=0.5 in /usr/local/lib/python3.11/dist-packages (from pexpect>4.3->ipython>=4.0.0->ipywidgets->leafmap) (0.7.0)\n",
            "Requirement already satisfied: wcwidth in /usr/local/lib/python3.11/dist-packages (from prompt-toolkit!=3.0.0,!=3.0.1,<3.1.0,>=2.0.0->ipython>=4.0.0->ipywidgets->leafmap) (0.2.13)\n",
            "Requirement already satisfied: pyasn1<0.7.0,>=0.6.1 in /usr/local/lib/python3.11/dist-packages (from pyasn1-modules>=0.2.1->google-auth>=1.4.1->earthengine-api>=1.0.0->geemap[workshop]) (0.6.1)\n",
            "Requirement already satisfied: markdown-it-py>=2.2.0 in /usr/local/lib/python3.11/dist-packages (from rich>=11.1.0->tyro>=0.9->opera-utils->leafmap) (3.0.0)\n",
            "Requirement already satisfied: anyio in /usr/local/lib/python3.11/dist-packages (from httpx->rio-tiler->localtileserver->leafmap) (4.9.0)\n",
            "Requirement already satisfied: httpcore==1.* in /usr/local/lib/python3.11/dist-packages (from httpx->rio-tiler->localtileserver->leafmap) (1.0.9)\n",
            "Requirement already satisfied: h11>=0.16 in /usr/local/lib/python3.11/dist-packages (from httpcore==1.*->httpx->rio-tiler->localtileserver->leafmap) (0.16.0)\n",
            "Requirement already satisfied: mdurl~=0.1 in /usr/local/lib/python3.11/dist-packages (from markdown-it-py>=2.2.0->rich>=11.1.0->tyro>=0.9->opera-utils->leafmap) (0.1.2)\n",
            "Requirement already satisfied: notebook-shim>=0.2.3 in /usr/local/lib/python3.11/dist-packages (from nbclassic>=0.4.7->notebook>=4.4.1->widgetsnbextension~=3.6.0->ipywidgets->leafmap) (0.2.4)\n",
            "Requirement already satisfied: bleach!=5.0.0 in /usr/local/lib/python3.11/dist-packages (from bleach[css]!=5.0.0->nbconvert>=5->notebook>=4.4.1->widgetsnbextension~=3.6.0->ipywidgets->leafmap) (6.2.0)\n",
            "Requirement already satisfied: defusedxml in /usr/local/lib/python3.11/dist-packages (from nbconvert>=5->notebook>=4.4.1->widgetsnbextension~=3.6.0->ipywidgets->leafmap) (0.7.1)\n",
            "Requirement already satisfied: jupyterlab-pygments in /usr/local/lib/python3.11/dist-packages (from nbconvert>=5->notebook>=4.4.1->widgetsnbextension~=3.6.0->ipywidgets->leafmap) (0.3.0)\n",
            "Requirement already satisfied: mistune<4,>=2.0.3 in /usr/local/lib/python3.11/dist-packages (from nbconvert>=5->notebook>=4.4.1->widgetsnbextension~=3.6.0->ipywidgets->leafmap) (3.1.3)\n",
            "Requirement already satisfied: nbclient>=0.5.0 in /usr/local/lib/python3.11/dist-packages (from nbconvert>=5->notebook>=4.4.1->widgetsnbextension~=3.6.0->ipywidgets->leafmap) (0.10.2)\n",
            "Requirement already satisfied: pandocfilters>=1.4.1 in /usr/local/lib/python3.11/dist-packages (from nbconvert>=5->notebook>=4.4.1->widgetsnbextension~=3.6.0->ipywidgets->leafmap) (1.5.1)\n",
            "Requirement already satisfied: fastjsonschema>=2.15 in /usr/local/lib/python3.11/dist-packages (from nbformat->notebook>=4.4.1->widgetsnbextension~=3.6.0->ipywidgets->leafmap) (2.21.1)\n",
            "Requirement already satisfied: sniffio>=1.1 in /usr/local/lib/python3.11/dist-packages (from anyio->httpx->rio-tiler->localtileserver->leafmap) (1.3.1)\n",
            "Requirement already satisfied: argon2-cffi-bindings in /usr/local/lib/python3.11/dist-packages (from argon2-cffi->notebook>=4.4.1->widgetsnbextension~=3.6.0->ipywidgets->leafmap) (21.2.0)\n",
            "Requirement already satisfied: webencodings in /usr/local/lib/python3.11/dist-packages (from bleach!=5.0.0->bleach[css]!=5.0.0->nbconvert>=5->notebook>=4.4.1->widgetsnbextension~=3.6.0->ipywidgets->leafmap) (0.5.1)\n",
            "Requirement already satisfied: tinycss2<1.5,>=1.1.0 in /usr/local/lib/python3.11/dist-packages (from bleach[css]!=5.0.0->nbconvert>=5->notebook>=4.4.1->widgetsnbextension~=3.6.0->ipywidgets->leafmap) (1.4.0)\n",
            "Requirement already satisfied: jupyter-server<3,>=1.8 in /usr/local/lib/python3.11/dist-packages (from notebook-shim>=0.2.3->nbclassic>=0.4.7->notebook>=4.4.1->widgetsnbextension~=3.6.0->ipywidgets->leafmap) (1.16.0)\n",
            "Requirement already satisfied: cffi>=1.0.1 in /usr/local/lib/python3.11/dist-packages (from argon2-cffi-bindings->argon2-cffi->notebook>=4.4.1->widgetsnbextension~=3.6.0->ipywidgets->leafmap) (1.17.1)\n",
            "Requirement already satisfied: pycparser in /usr/local/lib/python3.11/dist-packages (from cffi>=1.0.1->argon2-cffi-bindings->argon2-cffi->notebook>=4.4.1->widgetsnbextension~=3.6.0->ipywidgets->leafmap) (2.22)\n",
            "Requirement already satisfied: websocket-client in /usr/local/lib/python3.11/dist-packages (from jupyter-server<3,>=1.8->notebook-shim>=0.2.3->nbclassic>=0.4.7->notebook>=4.4.1->widgetsnbextension~=3.6.0->ipywidgets->leafmap) (1.8.0)\n",
            "Downloading leafmap-0.47.2-py2.py3-none-any.whl (567 kB)\n",
            "\u001b[2K   \u001b[90m━━━━━━━━━━━━━━━━━━━━━━━━━━━━━━━━━━━━━━━━\u001b[0m \u001b[32m567.6/567.6 kB\u001b[0m \u001b[31m11.3 MB/s\u001b[0m eta \u001b[36m0:00:00\u001b[0m\n",
            "\u001b[?25hDownloading maplibre-0.3.3-py3-none-any.whl (1.3 MB)\n",
            "\u001b[2K   \u001b[90m━━━━━━━━━━━━━━━━━━━━━━━━━━━━━━━━━━━━━━━━\u001b[0m \u001b[32m1.3/1.3 MB\u001b[0m \u001b[31m45.3 MB/s\u001b[0m eta \u001b[36m0:00:00\u001b[0m\n",
            "\u001b[?25hDownloading anywidget-0.9.18-py3-none-any.whl (220 kB)\n",
            "\u001b[2K   \u001b[90m━━━━━━━━━━━━━━━━━━━━━━━━━━━━━━━━━━━━━━━━\u001b[0m \u001b[32m220.7/220.7 kB\u001b[0m \u001b[31m17.0 MB/s\u001b[0m eta \u001b[36m0:00:00\u001b[0m\n",
            "\u001b[?25hDownloading eval_type_backport-0.2.2-py3-none-any.whl (5.8 kB)\n",
            "Downloading ffmpeg_python-0.2.0-py3-none-any.whl (25 kB)\n",
            "Downloading geedim-1.9.1-py3-none-any.whl (74 kB)\n",
            "\u001b[2K   \u001b[90m━━━━━━━━━━━━━━━━━━━━━━━━━━━━━━━━━━━━━━━━\u001b[0m \u001b[32m74.1/74.1 kB\u001b[0m \u001b[31m6.1 MB/s\u001b[0m eta \u001b[36m0:00:00\u001b[0m\n",
            "\u001b[?25hDownloading geojson-3.2.0-py3-none-any.whl (15 kB)\n",
            "Downloading ipyvuetify-1.11.2-py2.py3-none-any.whl (6.3 MB)\n",
            "\u001b[2K   \u001b[90m━━━━━━━━━━━━━━━━━━━━━━━━━━━━━━━━━━━━━━━━\u001b[0m \u001b[32m6.3/6.3 MB\u001b[0m \u001b[31m88.2 MB/s\u001b[0m eta \u001b[36m0:00:00\u001b[0m\n",
            "\u001b[?25hDownloading localtileserver-0.10.6-py3-none-any.whl (17.1 MB)\n",
            "\u001b[2K   \u001b[90m━━━━━━━━━━━━━━━━━━━━━━━━━━━━━━━━━━━━━━━━\u001b[0m \u001b[32m17.1/17.1 MB\u001b[0m \u001b[31m94.7 MB/s\u001b[0m eta \u001b[36m0:00:00\u001b[0m\n",
            "\u001b[?25hDownloading opera_utils-0.22.0-py3-none-any.whl (81 kB)\n",
            "\u001b[2K   \u001b[90m━━━━━━━━━━━━━━━━━━━━━━━━━━━━━━━━━━━━━━━━\u001b[0m \u001b[32m81.1/81.1 kB\u001b[0m \u001b[31m7.0 MB/s\u001b[0m eta \u001b[36m0:00:00\u001b[0m\n",
            "\u001b[?25hDownloading pystac_client-0.8.6-py3-none-any.whl (41 kB)\n",
            "\u001b[2K   \u001b[90m━━━━━━━━━━━━━━━━━━━━━━━━━━━━━━━━━━━━━━━━\u001b[0m \u001b[32m41.4/41.4 kB\u001b[0m \u001b[31m2.9 MB/s\u001b[0m eta \u001b[36m0:00:00\u001b[0m\n",
            "\u001b[?25hDownloading rioxarray-0.19.0-py3-none-any.whl (62 kB)\n",
            "\u001b[2K   \u001b[90m━━━━━━━━━━━━━━━━━━━━━━━━━━━━━━━━━━━━━━━━\u001b[0m \u001b[32m62.2/62.2 kB\u001b[0m \u001b[31m5.3 MB/s\u001b[0m eta \u001b[36m0:00:00\u001b[0m\n",
            "\u001b[?25hDownloading whiteboxgui-2.3.0-py2.py3-none-any.whl (108 kB)\n",
            "\u001b[2K   \u001b[90m━━━━━━━━━━━━━━━━━━━━━━━━━━━━━━━━━━━━━━━━\u001b[0m \u001b[32m108.6/108.6 kB\u001b[0m \u001b[31m9.4 MB/s\u001b[0m eta \u001b[36m0:00:00\u001b[0m\n",
            "\u001b[?25hDownloading flask_restx-1.3.0-py2.py3-none-any.whl (2.8 MB)\n",
            "\u001b[2K   \u001b[90m━━━━━━━━━━━━━━━━━━━━━━━━━━━━━━━━━━━━━━━━\u001b[0m \u001b[32m2.8/2.8 MB\u001b[0m \u001b[31m82.5 MB/s\u001b[0m eta \u001b[36m0:00:00\u001b[0m\n",
            "\u001b[?25hDownloading ipyvue-1.11.2-py2.py3-none-any.whl (2.7 MB)\n",
            "\u001b[2K   \u001b[90m━━━━━━━━━━━━━━━━━━━━━━━━━━━━━━━━━━━━━━━━\u001b[0m \u001b[32m2.7/2.7 MB\u001b[0m \u001b[31m84.7 MB/s\u001b[0m eta \u001b[36m0:00:00\u001b[0m\n",
            "\u001b[?25hDownloading psygnal-0.13.0-cp311-cp311-manylinux_2_17_x86_64.manylinux2014_x86_64.whl (842 kB)\n",
            "\u001b[2K   \u001b[90m━━━━━━━━━━━━━━━━━━━━━━━━━━━━━━━━━━━━━━━━\u001b[0m \u001b[32m842.5/842.5 kB\u001b[0m \u001b[31m45.1 MB/s\u001b[0m eta \u001b[36m0:00:00\u001b[0m\n",
            "\u001b[?25hDownloading pystac-1.13.0-py3-none-any.whl (206 kB)\n",
            "\u001b[2K   \u001b[90m━━━━━━━━━━━━━━━━━━━━━━━━━━━━━━━━━━━━━━━━\u001b[0m \u001b[32m206.8/206.8 kB\u001b[0m \u001b[31m17.1 MB/s\u001b[0m eta \u001b[36m0:00:00\u001b[0m\n",
            "\u001b[?25hDownloading rasterio-1.4.3-cp311-cp311-manylinux_2_17_x86_64.manylinux2014_x86_64.whl (22.2 MB)\n",
            "\u001b[2K   \u001b[90m━━━━━━━━━━━━━━━━━━━━━━━━━━━━━━━━━━━━━━━━\u001b[0m \u001b[32m22.2/22.2 MB\u001b[0m \u001b[31m84.4 MB/s\u001b[0m eta \u001b[36m0:00:00\u001b[0m\n",
            "\u001b[?25hDownloading tyro-0.9.24-py3-none-any.whl (128 kB)\n",
            "\u001b[2K   \u001b[90m━━━━━━━━━━━━━━━━━━━━━━━━━━━━━━━━━━━━━━━━\u001b[0m \u001b[32m128.3/128.3 kB\u001b[0m \u001b[31m10.0 MB/s\u001b[0m eta \u001b[36m0:00:00\u001b[0m\n",
            "\u001b[?25hDownloading Flask_Caching-2.3.1-py3-none-any.whl (28 kB)\n",
            "Downloading flask_cors-6.0.0-py3-none-any.whl (11 kB)\n",
            "Downloading rio_cogeo-5.4.1-py3-none-any.whl (20 kB)\n",
            "Downloading rio_tiler-7.8.0-py3-none-any.whl (268 kB)\n",
            "\u001b[2K   \u001b[90m━━━━━━━━━━━━━━━━━━━━━━━━━━━━━━━━━━━━━━━━\u001b[0m \u001b[32m269.0/269.0 kB\u001b[0m \u001b[31m18.6 MB/s\u001b[0m eta \u001b[36m0:00:00\u001b[0m\n",
            "\u001b[?25hDownloading server_thread-0.3.0-py3-none-any.whl (6.6 kB)\n",
            "Downloading whitebox-2.3.6-py2.py3-none-any.whl (74 kB)\n",
            "\u001b[2K   \u001b[90m━━━━━━━━━━━━━━━━━━━━━━━━━━━━━━━━━━━━━━━━\u001b[0m \u001b[32m74.0/74.0 kB\u001b[0m \u001b[31m5.8 MB/s\u001b[0m eta \u001b[36m0:00:00\u001b[0m\n",
            "\u001b[?25hDownloading aniso8601-10.0.1-py2.py3-none-any.whl (52 kB)\n",
            "\u001b[2K   \u001b[90m━━━━━━━━━━━━━━━━━━━━━━━━━━━━━━━━━━━━━━━━\u001b[0m \u001b[32m52.8/52.8 kB\u001b[0m \u001b[31m3.9 MB/s\u001b[0m eta \u001b[36m0:00:00\u001b[0m\n",
            "\u001b[?25hDownloading cachelib-0.13.0-py3-none-any.whl (20 kB)\n",
            "Downloading cligj-0.7.2-py3-none-any.whl (7.1 kB)\n",
            "Downloading jedi-0.19.2-py2.py3-none-any.whl (1.6 MB)\n",
            "\u001b[2K   \u001b[90m━━━━━━━━━━━━━━━━━━━━━━━━━━━━━━━━━━━━━━━━\u001b[0m \u001b[32m1.6/1.6 MB\u001b[0m \u001b[31m53.3 MB/s\u001b[0m eta \u001b[36m0:00:00\u001b[0m\n",
            "\u001b[?25hDownloading morecantile-6.2.0-py3-none-any.whl (49 kB)\n",
            "\u001b[2K   \u001b[90m━━━━━━━━━━━━━━━━━━━━━━━━━━━━━━━━━━━━━━━━\u001b[0m \u001b[32m49.5/49.5 kB\u001b[0m \u001b[31m4.4 MB/s\u001b[0m eta \u001b[36m0:00:00\u001b[0m\n",
            "\u001b[?25hDownloading shtab-1.7.2-py3-none-any.whl (14 kB)\n",
            "Downloading affine-2.4.0-py3-none-any.whl (15 kB)\n",
            "Downloading click_plugins-1.1.1-py2.py3-none-any.whl (7.5 kB)\n",
            "Downloading color_operations-0.2.0-cp311-cp311-manylinux_2_5_x86_64.manylinux1_x86_64.manylinux_2_17_x86_64.manylinux2014_x86_64.whl (195 kB)\n",
            "\u001b[2K   \u001b[90m━━━━━━━━━━━━━━━━━━━━━━━━━━━━━━━━━━━━━━━━\u001b[0m \u001b[32m195.2/195.2 kB\u001b[0m \u001b[31m14.5 MB/s\u001b[0m eta \u001b[36m0:00:00\u001b[0m\n",
            "\u001b[?25hInstalling collected packages: aniso8601, whitebox, shtab, psygnal, jedi, geojson, ffmpeg-python, eval-type-backport, color-operations, cligj, click-plugins, cachelib, affine, server-thread, rasterio, pystac, tyro, morecantile, maplibre, flask-cors, Flask-Caching, rioxarray, rio-tiler, rio-cogeo, opera-utils, flask-restx, pystac-client, localtileserver, geedim, ipyvue, anywidget, whiteboxgui, ipyvuetify, leafmap\n",
            "Successfully installed Flask-Caching-2.3.1 affine-2.4.0 aniso8601-10.0.1 anywidget-0.9.18 cachelib-0.13.0 click-plugins-1.1.1 cligj-0.7.2 color-operations-0.2.0 eval-type-backport-0.2.2 ffmpeg-python-0.2.0 flask-cors-6.0.0 flask-restx-1.3.0 geedim-1.9.1 geojson-3.2.0 ipyvue-1.11.2 ipyvuetify-1.11.2 jedi-0.19.2 leafmap-0.47.2 localtileserver-0.10.6 maplibre-0.3.3 morecantile-6.2.0 opera-utils-0.22.0 psygnal-0.13.0 pystac-1.13.0 pystac-client-0.8.6 rasterio-1.4.3 rio-cogeo-5.4.1 rio-tiler-7.8.0 rioxarray-0.19.0 server-thread-0.3.0 shtab-1.7.2 tyro-0.9.24 whitebox-2.3.6 whiteboxgui-2.3.0\n"
          ]
        }
      ],
      "source": [
        " %pip install \"geemap[workshop]\" leafmap maplibre"
      ]
    },
    {
      "cell_type": "markdown",
      "id": "2",
      "metadata": {
        "id": "2"
      },
      "source": [
        "### Import libraries"
      ]
    },
    {
      "cell_type": "code",
      "execution_count": null,
      "id": "3",
      "metadata": {
        "id": "3",
        "outputId": "3ef8aaf6-c284-4a27-9e8b-b56c1130f6ab",
        "colab": {
          "base_uri": "https://localhost:8080/",
          "height": 17
        }
      },
      "outputs": [
        {
          "output_type": "display_data",
          "data": {
            "text/plain": [
              "<IPython.core.display.HTML object>"
            ],
            "text/html": [
              "\n",
              "            <style>\n",
              "                .geemap-dark {\n",
              "                    --jp-widgets-color: white;\n",
              "                    --jp-widgets-label-color: white;\n",
              "                    --jp-ui-font-color1: white;\n",
              "                    --jp-layout-color2: #454545;\n",
              "                    background-color: #383838;\n",
              "                }\n",
              "\n",
              "                .geemap-dark .jupyter-button {\n",
              "                    --jp-layout-color3: #383838;\n",
              "                }\n",
              "\n",
              "                .geemap-colab {\n",
              "                    background-color: var(--colab-primary-surface-color, white);\n",
              "                }\n",
              "\n",
              "                .geemap-colab .jupyter-button {\n",
              "                    --jp-layout-color3: var(--colab-primary-surface-color, white);\n",
              "                }\n",
              "            </style>\n",
              "            "
            ]
          },
          "metadata": {}
        }
      ],
      "source": [
        "import ee\n",
        "import geemap\n",
        "import leafmap.maplibregl as leafmap"
      ]
    },
    {
      "cell_type": "code",
      "execution_count": null,
      "id": "4",
      "metadata": {
        "id": "4",
        "outputId": "11d0cb49-9814-446f-c388-655c1ce7bcb7",
        "colab": {
          "base_uri": "https://localhost:8080/",
          "height": 287
        }
      },
      "outputs": [
        {
          "output_type": "display_data",
          "data": {
            "text/plain": [
              "<IPython.core.display.HTML object>"
            ],
            "text/html": [
              "\n",
              "            <style>\n",
              "                .geemap-dark {\n",
              "                    --jp-widgets-color: white;\n",
              "                    --jp-widgets-label-color: white;\n",
              "                    --jp-ui-font-color1: white;\n",
              "                    --jp-layout-color2: #454545;\n",
              "                    background-color: #383838;\n",
              "                }\n",
              "\n",
              "                .geemap-dark .jupyter-button {\n",
              "                    --jp-layout-color3: #383838;\n",
              "                }\n",
              "\n",
              "                .geemap-colab {\n",
              "                    background-color: var(--colab-primary-surface-color, white);\n",
              "                }\n",
              "\n",
              "                .geemap-colab .jupyter-button {\n",
              "                    --jp-layout-color3: var(--colab-primary-surface-color, white);\n",
              "                }\n",
              "            </style>\n",
              "            "
            ]
          },
          "metadata": {}
        },
        {
          "output_type": "error",
          "ename": "MessageError",
          "evalue": "Error: credential propagation was unsuccessful",
          "traceback": [
            "\u001b[0;31m---------------------------------------------------------------------------\u001b[0m",
            "\u001b[0;31mMessageError\u001b[0m                              Traceback (most recent call last)",
            "\u001b[0;32m<ipython-input-4-ba629f2b11f0>\u001b[0m in \u001b[0;36m<cell line: 0>\u001b[0;34m()\u001b[0m\n\u001b[0;32m----> 1\u001b[0;31m \u001b[0mee\u001b[0m\u001b[0;34m.\u001b[0m\u001b[0mAuthenticate\u001b[0m\u001b[0;34m(\u001b[0m\u001b[0;34m)\u001b[0m\u001b[0;34m\u001b[0m\u001b[0;34m\u001b[0m\u001b[0m\n\u001b[0m",
            "\u001b[0;32m/usr/local/lib/python3.11/dist-packages/ee/__init__.py\u001b[0m in \u001b[0;36mAuthenticate\u001b[0;34m(authorization_code, quiet, code_verifier, auth_mode, scopes, force)\u001b[0m\n\u001b[1;32m    156\u001b[0m     \u001b[0;32mTrue\u001b[0m \u001b[0;32mif\u001b[0m \u001b[0mwe\u001b[0m \u001b[0mfound\u001b[0m \u001b[0mvalid\u001b[0m \u001b[0mcredentials\u001b[0m \u001b[0;32mand\u001b[0m \u001b[0mdidn\u001b[0m\u001b[0;31m'\u001b[0m\u001b[0mt\u001b[0m \u001b[0mrun\u001b[0m \u001b[0mthe\u001b[0m \u001b[0mauth\u001b[0m \u001b[0mflow\u001b[0m\u001b[0;34m.\u001b[0m\u001b[0;34m\u001b[0m\u001b[0;34m\u001b[0m\u001b[0m\n\u001b[1;32m    157\u001b[0m   \"\"\"\n\u001b[0;32m--> 158\u001b[0;31m   return oauth.authenticate(authorization_code, quiet, code_verifier, auth_mode,\n\u001b[0m\u001b[1;32m    159\u001b[0m                             scopes, force)\n\u001b[1;32m    160\u001b[0m \u001b[0;34m\u001b[0m\u001b[0m\n",
            "\u001b[0;32m/usr/local/lib/python3.11/dist-packages/ee/oauth.py\u001b[0m in \u001b[0;36mauthenticate\u001b[0;34m(cli_authorization_code, quiet, cli_code_verifier, auth_mode, scopes, force)\u001b[0m\n\u001b[1;32m    532\u001b[0m   \u001b[0;32mif\u001b[0m \u001b[0mauth_mode\u001b[0m \u001b[0;34m==\u001b[0m \u001b[0;34m'colab'\u001b[0m\u001b[0;34m:\u001b[0m\u001b[0;34m\u001b[0m\u001b[0;34m\u001b[0m\u001b[0m\n\u001b[1;32m    533\u001b[0m     \u001b[0;32mfrom\u001b[0m \u001b[0mgoogle\u001b[0m\u001b[0;34m.\u001b[0m\u001b[0mcolab\u001b[0m \u001b[0;32mimport\u001b[0m \u001b[0mauth\u001b[0m  \u001b[0;31m# pylint: disable=g-import-not-at-top # pytype: disable=import-error\u001b[0m\u001b[0;34m\u001b[0m\u001b[0;34m\u001b[0m\u001b[0m\n\u001b[0;32m--> 534\u001b[0;31m     \u001b[0mauth\u001b[0m\u001b[0;34m.\u001b[0m\u001b[0mauthenticate_user\u001b[0m\u001b[0;34m(\u001b[0m\u001b[0;34m)\u001b[0m\u001b[0;34m\u001b[0m\u001b[0;34m\u001b[0m\u001b[0m\n\u001b[0m\u001b[1;32m    535\u001b[0m     \u001b[0;32mreturn\u001b[0m\u001b[0;34m\u001b[0m\u001b[0;34m\u001b[0m\u001b[0m\n\u001b[1;32m    536\u001b[0m \u001b[0;34m\u001b[0m\u001b[0m\n",
            "\u001b[0;32m/usr/local/lib/python3.11/dist-packages/google/colab/auth.py\u001b[0m in \u001b[0;36mauthenticate_user\u001b[0;34m(clear_output, project_id)\u001b[0m\n\u001b[1;32m    258\u001b[0m   \u001b[0;32mif\u001b[0m \u001b[0;32mnot\u001b[0m \u001b[0m_check_adc\u001b[0m\u001b[0;34m(\u001b[0m\u001b[0m_CredentialType\u001b[0m\u001b[0;34m.\u001b[0m\u001b[0mUSER\u001b[0m\u001b[0;34m)\u001b[0m\u001b[0;34m:\u001b[0m\u001b[0;34m\u001b[0m\u001b[0;34m\u001b[0m\u001b[0m\n\u001b[1;32m    259\u001b[0m     \u001b[0;32mif\u001b[0m \u001b[0muse_auth_ephem\u001b[0m\u001b[0;34m:\u001b[0m\u001b[0;34m\u001b[0m\u001b[0;34m\u001b[0m\u001b[0m\n\u001b[0;32m--> 260\u001b[0;31m       _message.blocking_request(\n\u001b[0m\u001b[1;32m    261\u001b[0m           \u001b[0;34m'request_auth'\u001b[0m\u001b[0;34m,\u001b[0m\u001b[0;34m\u001b[0m\u001b[0;34m\u001b[0m\u001b[0m\n\u001b[1;32m    262\u001b[0m           \u001b[0mrequest\u001b[0m\u001b[0;34m=\u001b[0m\u001b[0;34m{\u001b[0m\u001b[0;34m'authType'\u001b[0m\u001b[0;34m:\u001b[0m \u001b[0;34m'auth_user_ephemeral'\u001b[0m\u001b[0;34m}\u001b[0m\u001b[0;34m,\u001b[0m\u001b[0;34m\u001b[0m\u001b[0;34m\u001b[0m\u001b[0m\n",
            "\u001b[0;32m/usr/local/lib/python3.11/dist-packages/google/colab/_message.py\u001b[0m in \u001b[0;36mblocking_request\u001b[0;34m(request_type, request, timeout_sec, parent)\u001b[0m\n\u001b[1;32m    174\u001b[0m       \u001b[0mrequest_type\u001b[0m\u001b[0;34m,\u001b[0m \u001b[0mrequest\u001b[0m\u001b[0;34m,\u001b[0m \u001b[0mparent\u001b[0m\u001b[0;34m=\u001b[0m\u001b[0mparent\u001b[0m\u001b[0;34m,\u001b[0m \u001b[0mexpect_reply\u001b[0m\u001b[0;34m=\u001b[0m\u001b[0;32mTrue\u001b[0m\u001b[0;34m\u001b[0m\u001b[0;34m\u001b[0m\u001b[0m\n\u001b[1;32m    175\u001b[0m   )\n\u001b[0;32m--> 176\u001b[0;31m   \u001b[0;32mreturn\u001b[0m \u001b[0mread_reply_from_input\u001b[0m\u001b[0;34m(\u001b[0m\u001b[0mrequest_id\u001b[0m\u001b[0;34m,\u001b[0m \u001b[0mtimeout_sec\u001b[0m\u001b[0;34m)\u001b[0m\u001b[0;34m\u001b[0m\u001b[0;34m\u001b[0m\u001b[0m\n\u001b[0m",
            "\u001b[0;32m/usr/local/lib/python3.11/dist-packages/google/colab/_message.py\u001b[0m in \u001b[0;36mread_reply_from_input\u001b[0;34m(message_id, timeout_sec)\u001b[0m\n\u001b[1;32m    101\u001b[0m     ):\n\u001b[1;32m    102\u001b[0m       \u001b[0;32mif\u001b[0m \u001b[0;34m'error'\u001b[0m \u001b[0;32min\u001b[0m \u001b[0mreply\u001b[0m\u001b[0;34m:\u001b[0m\u001b[0;34m\u001b[0m\u001b[0;34m\u001b[0m\u001b[0m\n\u001b[0;32m--> 103\u001b[0;31m         \u001b[0;32mraise\u001b[0m \u001b[0mMessageError\u001b[0m\u001b[0;34m(\u001b[0m\u001b[0mreply\u001b[0m\u001b[0;34m[\u001b[0m\u001b[0;34m'error'\u001b[0m\u001b[0;34m]\u001b[0m\u001b[0;34m)\u001b[0m\u001b[0;34m\u001b[0m\u001b[0;34m\u001b[0m\u001b[0m\n\u001b[0m\u001b[1;32m    104\u001b[0m       \u001b[0;32mreturn\u001b[0m \u001b[0mreply\u001b[0m\u001b[0;34m.\u001b[0m\u001b[0mget\u001b[0m\u001b[0;34m(\u001b[0m\u001b[0;34m'data'\u001b[0m\u001b[0;34m,\u001b[0m \u001b[0;32mNone\u001b[0m\u001b[0;34m)\u001b[0m\u001b[0;34m\u001b[0m\u001b[0;34m\u001b[0m\u001b[0m\n\u001b[1;32m    105\u001b[0m \u001b[0;34m\u001b[0m\u001b[0m\n",
            "\u001b[0;31mMessageError\u001b[0m: Error: credential propagation was unsuccessful"
          ]
        }
      ],
      "source": [
        "ee.Authenticate()"
      ]
    },
    {
      "cell_type": "code",
      "execution_count": null,
      "id": "5",
      "metadata": {
        "id": "5"
      },
      "outputs": [],
      "source": [
        "ee.Initialize(project=\"YOUR-PROJECT-ID\")"
      ]
    },
    {
      "cell_type": "markdown",
      "id": "6",
      "metadata": {
        "id": "6"
      },
      "source": [
        "## Colab setup\n",
        "\n",
        "Uncomment the following line to get the Earth Engine authorization token. Please treat your token with care and don't share it with anyone. Copy the token to the clipboard."
      ]
    },
    {
      "cell_type": "code",
      "execution_count": null,
      "id": "7",
      "metadata": {
        "id": "7"
      },
      "outputs": [],
      "source": [
        "# geemap.get_ee_token()"
      ]
    },
    {
      "cell_type": "markdown",
      "id": "8",
      "metadata": {
        "id": "8"
      },
      "source": [
        "1. Open your Google Colab notebook and click on the `secrets` tab.\n",
        "2. Create a new secret with the name `EARTHENGINE_TOKEN`.\n",
        "3. Paste the content from the clipboard into the `Value` input box of the created secret.\n",
        "4. Toggle the button on the left to allow notebook access to the secret.\n",
        "\n",
        "![](https://i.imgur.com/Z9R08uU.png)"
      ]
    },
    {
      "cell_type": "markdown",
      "id": "9",
      "metadata": {
        "id": "9"
      },
      "source": [
        "## Data Visualization in 3D\n",
        "\n",
        "### Globe projection"
      ]
    },
    {
      "cell_type": "code",
      "execution_count": null,
      "id": "10",
      "metadata": {
        "id": "10"
      },
      "outputs": [],
      "source": [
        "m = leafmap.Map(center=[-100, 40], zoom=3, style=\"liberty\")\n",
        "m.add_globe_control()\n",
        "m"
      ]
    },
    {
      "cell_type": "markdown",
      "id": "11",
      "metadata": {
        "id": "11"
      },
      "source": [
        "### Overture buildings"
      ]
    },
    {
      "cell_type": "code",
      "execution_count": null,
      "id": "12",
      "metadata": {
        "id": "12"
      },
      "outputs": [],
      "source": [
        "m = leafmap.Map(center=[-100, 40], zoom=3, style=\"positron\", projection=\"globe\")\n",
        "m.add_overture_3d_buildings()\n",
        "m"
      ]
    },
    {
      "cell_type": "markdown",
      "id": "13",
      "metadata": {
        "id": "13"
      },
      "source": [
        "### Add basemaps"
      ]
    },
    {
      "cell_type": "code",
      "execution_count": null,
      "id": "14",
      "metadata": {
        "id": "14"
      },
      "outputs": [],
      "source": [
        "m = leafmap.Map(center=[-100, 40], zoom=3, style=\"positron\", projection=\"globe\")\n",
        "m.add_basemap(\"Esri.WorldImagery\")\n",
        "m.add_overture_3d_buildings()\n",
        "m.add_layer_control()\n",
        "m"
      ]
    },
    {
      "cell_type": "markdown",
      "id": "15",
      "metadata": {
        "id": "15"
      },
      "source": [
        "### Visualize Earth Engine data"
      ]
    },
    {
      "cell_type": "markdown",
      "id": "16",
      "metadata": {
        "id": "16"
      },
      "source": [
        "To use the `3d-terrain` basemap, you will need an [API key](https://docs.maptiler.com/cloud/api/authentication-key/) from [MapTiler](https://www.maptiler.com/cloud/). Once you have the API key, you can uncomment the following code block and replace `YOUR_API_KEY` with your actual API key. Then, run the code block code to set the API key as an environment variable."
      ]
    },
    {
      "cell_type": "code",
      "execution_count": null,
      "id": "17",
      "metadata": {
        "id": "17"
      },
      "outputs": [],
      "source": [
        "# import os\n",
        "# os.environ[\"MAPTILER_KEY\"] = \"YOUR_API_KEY\""
      ]
    },
    {
      "cell_type": "code",
      "execution_count": null,
      "id": "18",
      "metadata": {
        "id": "18"
      },
      "outputs": [],
      "source": [
        "m = leafmap.Map(style=\"3d-terrain\", projection=\"globe\")\n",
        "m.add_ee_layer(asset_id=\"ESA/WorldCover/v200\", opacity=0.5)\n",
        "m.add_legend(builtin_legend=\"ESA_WorldCover\", title=\"ESA Landcover\")\n",
        "m.add_overture_3d_buildings()\n",
        "m.add_layer_control()\n",
        "m"
      ]
    },
    {
      "cell_type": "code",
      "execution_count": null,
      "id": "19",
      "metadata": {
        "id": "19"
      },
      "outputs": [],
      "source": [
        "m.layer_interact()"
      ]
    },
    {
      "cell_type": "markdown",
      "id": "20",
      "metadata": {
        "id": "20"
      },
      "source": [
        "Land cover data."
      ]
    },
    {
      "cell_type": "code",
      "execution_count": null,
      "id": "21",
      "metadata": {
        "id": "21"
      },
      "outputs": [],
      "source": [
        "m = leafmap.Map(style=\"3d-terrain\", projection=\"globe\")\n",
        "dataset = ee.ImageCollection(\"ESA/WorldCover/v200\").first()\n",
        "vis_params = {\"bands\": [\"Map\"]}\n",
        "m.add_ee_layer(dataset, vis_params, name=\"ESA Worldcover\", opacity=0.5)\n",
        "m.add_legend(builtin_legend=\"ESA_WorldCover\", title=\"ESA Landcover\")\n",
        "m.add_layer_control()\n",
        "m"
      ]
    },
    {
      "cell_type": "markdown",
      "id": "22",
      "metadata": {
        "id": "22"
      },
      "source": [
        "Night time light data."
      ]
    },
    {
      "cell_type": "code",
      "execution_count": null,
      "id": "23",
      "metadata": {
        "id": "23"
      },
      "outputs": [],
      "source": [
        "m = leafmap.Map(style=\"darkmatter\", projection=\"globe\")\n",
        "dataset = ee.ImageCollection(\"NOAA/VIIRS/DNB/ANNUAL_V22\").filter(\n",
        "    ee.Filter.date(\"2022-01-01\", \"2023-01-01\")\n",
        ")\n",
        "nighttime = dataset.select(\"maximum\")\n",
        "nighttimeVis = {\"min\": 0.0, \"max\": 60.0}\n",
        "m.add_ee_layer(nighttime, nighttimeVis, name=\"Nighttime\")\n",
        "\n",
        "countries = ee.FeatureCollection(\"USDOS/LSIB_SIMPLE/2017\")\n",
        "styleParams = {\n",
        "    \"fillColor\": \"00000000\",\n",
        "    \"color\": \"ff0000\",\n",
        "    \"width\": 1.0,\n",
        "}\n",
        "countries = countries.style(**styleParams)\n",
        "m.add_ee_layer(countries, {}, name=\"Country Boundaries\")\n",
        "m.add_layer_control()\n",
        "m"
      ]
    },
    {
      "cell_type": "markdown",
      "id": "24",
      "metadata": {
        "id": "24"
      },
      "source": [
        "## Creating timelapse animations\n",
        "\n",
        "### Landsat"
      ]
    },
    {
      "cell_type": "code",
      "execution_count": null,
      "id": "25",
      "metadata": {
        "id": "25"
      },
      "outputs": [],
      "source": [
        "m = geemap.Map(center=[22.95459, 113.94078], zoom=10)\n",
        "m"
      ]
    },
    {
      "cell_type": "markdown",
      "id": "26",
      "metadata": {
        "id": "26"
      },
      "source": [
        "Pan and zoom the map to an area of interest. Use the drawing tools to draw a rectangle on the map. If no rectangle is drawn, the default rectangle shown below will be used."
      ]
    },
    {
      "cell_type": "code",
      "execution_count": null,
      "id": "27",
      "metadata": {
        "id": "27"
      },
      "outputs": [],
      "source": [
        "m.user_roi_coords()"
      ]
    },
    {
      "cell_type": "code",
      "execution_count": null,
      "id": "28",
      "metadata": {
        "id": "28"
      },
      "outputs": [],
      "source": [
        "roi = m.user_roi\n",
        "if roi is None:\n",
        "    roi = ee.Geometry.BBox(113.5059, 22.6805, 114.2939, 23.1195)\n",
        "    m.add_layer(roi)\n",
        "    m.center_object(roi)"
      ]
    },
    {
      "cell_type": "code",
      "execution_count": null,
      "id": "29",
      "metadata": {
        "id": "29"
      },
      "outputs": [],
      "source": [
        "timelapse = geemap.landsat_timelapse(\n",
        "    roi,\n",
        "    out_gif=\"Dongguan.gif\",\n",
        "    start_year=1986,\n",
        "    end_year=2025,\n",
        "    start_date=\"01-01\",\n",
        "    end_date=\"12-31\",\n",
        "    bands=[\"SWIR1\", \"NIR\", \"Red\"],\n",
        "    frames_per_second=5,\n",
        "    title=\"Landsat Timelapse\",\n",
        "    progress_bar_color=\"blue\",\n",
        "    mp4=True,\n",
        ")\n",
        "geemap.show_image(timelapse)"
      ]
    },
    {
      "cell_type": "code",
      "execution_count": null,
      "id": "30",
      "metadata": {
        "id": "30"
      },
      "outputs": [],
      "source": [
        "m = geemap.Map(center=[22.95459, 113.94078], zoom=10)\n",
        "m.add_gui(\"timelapse\")\n",
        "m"
      ]
    },
    {
      "cell_type": "code",
      "execution_count": null,
      "id": "31",
      "metadata": {
        "id": "31"
      },
      "outputs": [],
      "source": [
        "m = geemap.Map()\n",
        "roi = ee.Geometry.BBox(113.6278, 22.639, 113.8983, 22.8024)\n",
        "m.add_layer(roi)\n",
        "m.center_object(roi)\n",
        "m"
      ]
    },
    {
      "cell_type": "code",
      "execution_count": null,
      "id": "32",
      "metadata": {
        "id": "32"
      },
      "outputs": [],
      "source": [
        "timelapse = geemap.landsat_timelapse(\n",
        "    roi,\n",
        "    out_gif=\"Donguan2.gif\",\n",
        "    start_year=1986,\n",
        "    end_year=2025,\n",
        "    start_date=\"01-01\",\n",
        "    end_date=\"12-31\",\n",
        "    bands=[\"SWIR1\", \"NIR\", \"Red\"],\n",
        "    frames_per_second=5,\n",
        "    title=\"Dongguan, China\",\n",
        "    font_color=\"red\",\n",
        ")\n",
        "geemap.show_image(timelapse)"
      ]
    },
    {
      "cell_type": "code",
      "execution_count": null,
      "id": "33",
      "metadata": {
        "id": "33"
      },
      "outputs": [],
      "source": [
        "m = geemap.Map()\n",
        "roi = ee.Geometry.BBox(113.8252, 22.1988, 114.0851, 22.3497)\n",
        "m.add_layer(roi)\n",
        "m.center_object(roi)\n",
        "m"
      ]
    },
    {
      "cell_type": "code",
      "execution_count": null,
      "id": "34",
      "metadata": {
        "id": "34"
      },
      "outputs": [],
      "source": [
        "timelapse = geemap.landsat_timelapse(\n",
        "    roi,\n",
        "    out_gif=\"hong_kong.gif\",\n",
        "    start_year=1990,\n",
        "    end_year=2022,\n",
        "    start_date=\"01-01\",\n",
        "    end_date=\"12-31\",\n",
        "    bands=[\"SWIR1\", \"NIR\", \"Red\"],\n",
        "    frames_per_second=3,\n",
        "    title=\"Hong Kong\",\n",
        ")\n",
        "geemap.show_image(timelapse)"
      ]
    },
    {
      "cell_type": "code",
      "execution_count": null,
      "id": "35",
      "metadata": {
        "id": "35"
      },
      "outputs": [],
      "source": [
        "m = geemap.Map()\n",
        "roi = ee.Geometry.BBox(-115.5541, 35.8044, -113.9035, 36.5581)\n",
        "m.add_layer(roi)\n",
        "m.center_object(roi)\n",
        "m"
      ]
    },
    {
      "cell_type": "code",
      "execution_count": null,
      "id": "36",
      "metadata": {
        "id": "36"
      },
      "outputs": [],
      "source": [
        "timelapse = geemap.landsat_timelapse(\n",
        "    roi,\n",
        "    out_gif=\"las_vegas.gif\",\n",
        "    start_year=1984,\n",
        "    end_year=2025,\n",
        "    bands=[\"NIR\", \"Red\", \"Green\"],\n",
        "    frames_per_second=5,\n",
        "    title=\"Las Vegas, NV\",\n",
        "    font_color=\"blue\",\n",
        ")\n",
        "geemap.show_image(timelapse)"
      ]
    },
    {
      "cell_type": "markdown",
      "id": "37",
      "metadata": {
        "id": "37"
      },
      "source": [
        "### MODIS\n",
        "\n",
        "MODIS vegetation indices"
      ]
    },
    {
      "cell_type": "code",
      "execution_count": null,
      "id": "38",
      "metadata": {
        "id": "38"
      },
      "outputs": [],
      "source": [
        "m = geemap.Map()\n",
        "m"
      ]
    },
    {
      "cell_type": "code",
      "execution_count": null,
      "id": "39",
      "metadata": {
        "id": "39"
      },
      "outputs": [],
      "source": [
        "roi = m.user_roi\n",
        "if roi is None:\n",
        "    roi = ee.Geometry.BBox(-18.6983, -36.1630, 52.2293, 38.1446)\n",
        "    m.add_layer(roi)\n",
        "    m.center_object(roi)"
      ]
    },
    {
      "cell_type": "code",
      "execution_count": null,
      "id": "40",
      "metadata": {
        "id": "40"
      },
      "outputs": [],
      "source": [
        "timelapse = geemap.modis_ndvi_timelapse(\n",
        "    roi,\n",
        "    out_gif=\"ndvi.gif\",\n",
        "    data=\"Terra\",\n",
        "    band=\"NDVI\",\n",
        "    start_date=\"2000-01-01\",\n",
        "    end_date=\"2025-12-31\",\n",
        "    frames_per_second=3,\n",
        "    title=\"MODIS NDVI Timelapse\",\n",
        "    overlay_data=\"countries\",\n",
        ")\n",
        "geemap.show_image(timelapse)"
      ]
    },
    {
      "cell_type": "markdown",
      "id": "41",
      "metadata": {
        "id": "41"
      },
      "source": [
        "MODIS temperature"
      ]
    },
    {
      "cell_type": "code",
      "execution_count": null,
      "id": "42",
      "metadata": {
        "id": "42"
      },
      "outputs": [],
      "source": [
        "m = geemap.Map()\n",
        "m"
      ]
    },
    {
      "cell_type": "code",
      "execution_count": null,
      "id": "43",
      "metadata": {
        "id": "43"
      },
      "outputs": [],
      "source": [
        "roi = m.user_roi\n",
        "if roi is None:\n",
        "    roi = ee.Geometry.BBox(-171.21, -57.13, 177.53, 79.99)\n",
        "    m.add_layer(roi)\n",
        "    m.center_object(roi)"
      ]
    },
    {
      "cell_type": "code",
      "execution_count": null,
      "id": "44",
      "metadata": {
        "id": "44"
      },
      "outputs": [],
      "source": [
        "timelapse = geemap.modis_ocean_color_timelapse(\n",
        "    satellite=\"Aqua\",\n",
        "    start_date=\"2018-01-01\",\n",
        "    end_date=\"2020-12-31\",\n",
        "    roi=roi,\n",
        "    frequency=\"month\",\n",
        "    out_gif=\"temperature.gif\",\n",
        "    overlay_data=\"continents\",\n",
        "    overlay_color=\"yellow\",\n",
        "    overlay_opacity=0.5,\n",
        ")\n",
        "geemap.show_image(timelapse)"
      ]
    },
    {
      "cell_type": "markdown",
      "id": "45",
      "metadata": {
        "id": "45"
      },
      "source": [
        "### GOES"
      ]
    },
    {
      "cell_type": "code",
      "execution_count": null,
      "id": "46",
      "metadata": {
        "id": "46"
      },
      "outputs": [],
      "source": [
        "roi = ee.Geometry.BBox(167.1898, -28.5757, 202.6258, -12.4411)\n",
        "start_date = \"2022-01-15T03:00:00\"\n",
        "end_date = \"2022-01-15T07:00:00\"\n",
        "data = \"GOES-17\"\n",
        "scan = \"full_disk\""
      ]
    },
    {
      "cell_type": "code",
      "execution_count": null,
      "id": "47",
      "metadata": {
        "id": "47"
      },
      "outputs": [],
      "source": [
        "timelapse = geemap.goes_timelapse(\n",
        "    roi, \"goes.gif\", start_date, end_date, data, scan, framesPerSecond=5\n",
        ")\n",
        "geemap.show_image(timelapse)"
      ]
    },
    {
      "cell_type": "code",
      "execution_count": null,
      "id": "48",
      "metadata": {
        "id": "48"
      },
      "outputs": [],
      "source": [
        "roi = ee.Geometry.BBox(-159.5954, 24.5178, -114.2438, 60.4088)\n",
        "start_date = \"2021-10-24T14:00:00\"\n",
        "end_date = \"2021-10-25T01:00:00\"\n",
        "data = \"GOES-17\"\n",
        "scan = \"full_disk\""
      ]
    },
    {
      "cell_type": "code",
      "execution_count": null,
      "id": "49",
      "metadata": {
        "id": "49"
      },
      "outputs": [],
      "source": [
        "timelapse = geemap.goes_timelapse(\n",
        "    roi, \"hurricane.gif\", start_date, end_date, data, scan, framesPerSecond=5\n",
        ")\n",
        "geemap.show_image(timelapse)"
      ]
    },
    {
      "cell_type": "code",
      "execution_count": null,
      "id": "50",
      "metadata": {
        "id": "50"
      },
      "outputs": [],
      "source": [
        "roi = ee.Geometry.BBox(-121.0034, 36.8488, -117.9052, 39.0490)\n",
        "start_date = \"2020-09-05T15:00:00\"\n",
        "end_date = \"2020-09-06T02:00:00\"\n",
        "data = \"GOES-17\"\n",
        "scan = \"full_disk\""
      ]
    },
    {
      "cell_type": "code",
      "execution_count": null,
      "id": "51",
      "metadata": {
        "id": "51"
      },
      "outputs": [],
      "source": [
        "timelapse = geemap.goes_fire_timelapse(\n",
        "    roi, \"fire.gif\", start_date, end_date, data, scan, framesPerSecond=5\n",
        ")\n",
        "geemap.show_image(timelapse)"
      ]
    },
    {
      "cell_type": "markdown",
      "id": "52",
      "metadata": {
        "id": "52"
      },
      "source": [
        "### NAIP"
      ]
    },
    {
      "cell_type": "code",
      "execution_count": null,
      "id": "53",
      "metadata": {
        "id": "53"
      },
      "outputs": [],
      "source": [
        "m = geemap.Map(center=[40, -100], zoom=4)\n",
        "m"
      ]
    },
    {
      "cell_type": "code",
      "execution_count": null,
      "id": "54",
      "metadata": {
        "id": "54"
      },
      "outputs": [],
      "source": [
        "roi = m.user_roi\n",
        "if roi is None:\n",
        "    roi = ee.Geometry.BBox(-99.1019, 47.1274, -99.0334, 47.1562)\n",
        "    m.add_layer(roi)\n",
        "    m.center_object(roi)"
      ]
    },
    {
      "cell_type": "code",
      "execution_count": null,
      "id": "55",
      "metadata": {
        "id": "55"
      },
      "outputs": [],
      "source": [
        "timelapse = geemap.naip_timelapse(\n",
        "    roi,\n",
        "    out_gif=\"naip.gif\",\n",
        "    bands=[\"N\", \"R\", \"G\"],\n",
        "    frames_per_second=3,\n",
        "    title=\"NAIP Timelapse\",\n",
        ")\n",
        "geemap.show_image(timelapse)"
      ]
    },
    {
      "cell_type": "markdown",
      "id": "56",
      "metadata": {
        "id": "56"
      },
      "source": [
        "### Sentinel-1"
      ]
    },
    {
      "cell_type": "code",
      "execution_count": null,
      "id": "57",
      "metadata": {
        "id": "57"
      },
      "outputs": [],
      "source": [
        "m = geemap.Map()\n",
        "m"
      ]
    },
    {
      "cell_type": "code",
      "execution_count": null,
      "id": "58",
      "metadata": {
        "id": "58"
      },
      "outputs": [],
      "source": [
        "roi = m.user_roi\n",
        "if roi is None:\n",
        "    roi = ee.Geometry.BBox(117.1132, 3.5227, 117.2214, 3.5843)\n",
        "    m.add_layer(roi)\n",
        "    m.center_object(roi)"
      ]
    },
    {
      "cell_type": "code",
      "execution_count": null,
      "id": "59",
      "metadata": {
        "id": "59"
      },
      "outputs": [],
      "source": [
        "timelapse = geemap.sentinel1_timelapse(\n",
        "    roi,\n",
        "    out_gif=\"sentinel1.gif\",\n",
        "    start_year=2019,\n",
        "    end_year=2019,\n",
        "    start_date=\"04-01\",\n",
        "    end_date=\"08-01\",\n",
        "    bands=[\"VV\"],\n",
        "    frequency=\"day\",\n",
        "    vis_params={\"min\": -30, \"max\": 0},\n",
        "    palette=\"Greys\",\n",
        "    frames_per_second=3,\n",
        "    title=\"Sentinel-1 Timelapse\",\n",
        "    add_colorbar=True,\n",
        "    colorbar_bg_color=\"gray\",\n",
        ")\n",
        "geemap.show_image(timelapse)"
      ]
    },
    {
      "cell_type": "markdown",
      "id": "60",
      "metadata": {
        "id": "60"
      },
      "source": [
        "## Exporting Earth Engine data\n",
        "\n",
        "### Exporting images\n",
        "\n",
        "Add a Landsat image to the map."
      ]
    },
    {
      "cell_type": "code",
      "execution_count": null,
      "id": "61",
      "metadata": {
        "id": "61"
      },
      "outputs": [],
      "source": [
        "m = geemap.Map()\n",
        "\n",
        "image = ee.Image(\"LANDSAT/LC08/C02/T1_TOA/LC08_044034_20140318\").select(\n",
        "    [\"B5\", \"B4\", \"B3\"]\n",
        ")\n",
        "\n",
        "vis_params = {\"min\": 0, \"max\": 0.5, \"gamma\": [0.95, 1.1, 1]}\n",
        "\n",
        "m.center_object(image)\n",
        "m.add_layer(image, vis_params, \"Landsat\")\n",
        "m"
      ]
    },
    {
      "cell_type": "markdown",
      "id": "62",
      "metadata": {
        "id": "62"
      },
      "source": [
        "Add a rectangle to the map."
      ]
    },
    {
      "cell_type": "code",
      "execution_count": null,
      "id": "63",
      "metadata": {
        "id": "63"
      },
      "outputs": [],
      "source": [
        "region = ee.Geometry.BBox(-122.5955, 37.5339, -122.0982, 37.8252)\n",
        "fc = ee.FeatureCollection(region)\n",
        "style = {\"color\": \"ffff00ff\", \"fillColor\": \"00000000\"}\n",
        "m.add_layer(fc.style(**style), {}, \"ROI\")"
      ]
    },
    {
      "cell_type": "markdown",
      "id": "64",
      "metadata": {
        "id": "64"
      },
      "source": [
        "To local drive"
      ]
    },
    {
      "cell_type": "code",
      "execution_count": null,
      "id": "65",
      "metadata": {
        "id": "65"
      },
      "outputs": [],
      "source": [
        "geemap.ee_export_image(image, filename=\"landsat.tif\", scale=30, region=region)"
      ]
    },
    {
      "cell_type": "markdown",
      "id": "66",
      "metadata": {
        "id": "66"
      },
      "source": [
        "Check image projection."
      ]
    },
    {
      "cell_type": "code",
      "execution_count": null,
      "id": "67",
      "metadata": {
        "id": "67"
      },
      "outputs": [],
      "source": [
        "projection = image.select(0).projection().getInfo()\n",
        "projection"
      ]
    },
    {
      "cell_type": "code",
      "execution_count": null,
      "id": "68",
      "metadata": {
        "id": "68"
      },
      "outputs": [],
      "source": [
        "crs = projection[\"crs\"]\n",
        "crs_transform = projection[\"transform\"]"
      ]
    },
    {
      "cell_type": "markdown",
      "id": "69",
      "metadata": {
        "id": "69"
      },
      "source": [
        "Specify region, crs, and crs_transform."
      ]
    },
    {
      "cell_type": "code",
      "execution_count": null,
      "id": "70",
      "metadata": {
        "id": "70"
      },
      "outputs": [],
      "source": [
        "geemap.ee_export_image(\n",
        "    image,\n",
        "    filename=\"landsat_crs.tif\",\n",
        "    crs=crs,\n",
        "    crs_transform=crs_transform,\n",
        "    region=region,\n",
        ")"
      ]
    },
    {
      "cell_type": "markdown",
      "id": "71",
      "metadata": {
        "id": "71"
      },
      "source": [
        "To Google Drive"
      ]
    },
    {
      "cell_type": "code",
      "execution_count": null,
      "id": "72",
      "metadata": {
        "id": "72"
      },
      "outputs": [],
      "source": [
        "geemap.ee_export_image_to_drive(\n",
        "    image, description=\"landsat\", folder=\"export\", region=region, scale=30\n",
        ")"
      ]
    },
    {
      "cell_type": "code",
      "execution_count": null,
      "id": "73",
      "metadata": {
        "id": "73"
      },
      "outputs": [],
      "source": [
        "geemap.download_ee_image(image, \"landsat.tif\", scale=90)"
      ]
    },
    {
      "cell_type": "markdown",
      "id": "74",
      "metadata": {
        "id": "74"
      },
      "source": [
        "### Exporting image collections"
      ]
    },
    {
      "cell_type": "code",
      "execution_count": null,
      "id": "75",
      "metadata": {
        "id": "75"
      },
      "outputs": [],
      "source": [
        "point = ee.Geometry.Point(-99.2222, 46.7816)\n",
        "collection = (\n",
        "    ee.ImageCollection(\"USDA/NAIP/DOQQ\")\n",
        "    .filterBounds(point)\n",
        "    .filterDate(\"2008-01-01\", \"2018-01-01\")\n",
        "    .filter(ee.Filter.listContains(\"system:band_names\", \"N\"))\n",
        ")"
      ]
    },
    {
      "cell_type": "code",
      "execution_count": null,
      "id": "76",
      "metadata": {
        "id": "76"
      },
      "outputs": [],
      "source": [
        "collection.aggregate_array(\"system:index\")"
      ]
    },
    {
      "cell_type": "markdown",
      "id": "77",
      "metadata": {
        "id": "77"
      },
      "source": [
        "To local drive"
      ]
    },
    {
      "cell_type": "code",
      "execution_count": null,
      "id": "78",
      "metadata": {
        "id": "78"
      },
      "outputs": [],
      "source": [
        "geemap.ee_export_image_collection(collection, out_dir=\".\", scale=10)"
      ]
    },
    {
      "cell_type": "markdown",
      "id": "79",
      "metadata": {
        "id": "79"
      },
      "source": [
        "To Google Drive"
      ]
    },
    {
      "cell_type": "code",
      "execution_count": null,
      "id": "80",
      "metadata": {
        "id": "80"
      },
      "outputs": [],
      "source": [
        "geemap.ee_export_image_collection_to_drive(collection, folder=\"export\", scale=10)"
      ]
    },
    {
      "cell_type": "markdown",
      "id": "81",
      "metadata": {
        "id": "81"
      },
      "source": [
        "### Exporting feature collections"
      ]
    },
    {
      "cell_type": "code",
      "execution_count": null,
      "id": "82",
      "metadata": {
        "id": "82"
      },
      "outputs": [],
      "source": [
        "m = geemap.Map()\n",
        "states = ee.FeatureCollection(\"TIGER/2018/States\")\n",
        "fc = states.filter(ee.Filter.eq(\"NAME\", \"Alaska\"))\n",
        "m.add_layer(fc, {}, \"Alaska\")\n",
        "m.center_object(fc, 4)\n",
        "m"
      ]
    },
    {
      "cell_type": "markdown",
      "id": "83",
      "metadata": {
        "id": "83"
      },
      "source": [
        "To local drive"
      ]
    },
    {
      "cell_type": "code",
      "execution_count": null,
      "id": "84",
      "metadata": {
        "id": "84"
      },
      "outputs": [],
      "source": [
        "geemap.ee_to_shp(fc, filename=\"Alaska.shp\")"
      ]
    },
    {
      "cell_type": "code",
      "execution_count": null,
      "id": "85",
      "metadata": {
        "id": "85"
      },
      "outputs": [],
      "source": [
        "geemap.ee_export_vector(fc, filename=\"Alaska.shp\")"
      ]
    },
    {
      "cell_type": "code",
      "execution_count": null,
      "id": "86",
      "metadata": {
        "id": "86"
      },
      "outputs": [],
      "source": [
        "geemap.ee_to_geojson(fc, filename=\"Alaska.geojson\")"
      ]
    },
    {
      "cell_type": "code",
      "execution_count": null,
      "id": "87",
      "metadata": {
        "id": "87"
      },
      "outputs": [],
      "source": [
        "geemap.ee_to_csv(fc, filename=\"Alaska.csv\")"
      ]
    },
    {
      "cell_type": "code",
      "execution_count": null,
      "id": "88",
      "metadata": {
        "id": "88"
      },
      "outputs": [],
      "source": [
        "gdf = geemap.ee_to_gdf(fc)\n",
        "gdf"
      ]
    },
    {
      "cell_type": "code",
      "execution_count": null,
      "id": "89",
      "metadata": {
        "id": "89"
      },
      "outputs": [],
      "source": [
        "df = geemap.ee_to_df(fc)\n",
        "df"
      ]
    },
    {
      "cell_type": "markdown",
      "id": "90",
      "metadata": {
        "id": "90"
      },
      "source": [
        "To Google Drive"
      ]
    },
    {
      "cell_type": "code",
      "execution_count": null,
      "id": "91",
      "metadata": {
        "id": "91"
      },
      "outputs": [],
      "source": [
        "geemap.ee_export_vector_to_drive(\n",
        "    fc, description=\"Alaska\", fileFormat=\"SHP\", folder=\"export\"\n",
        ")"
      ]
    },
    {
      "cell_type": "markdown",
      "id": "92",
      "metadata": {
        "id": "92"
      },
      "source": [
        "## Charts\n",
        "\n",
        "### Feature and FeatureCollection\n",
        "\n",
        "#### Import libraries"
      ]
    },
    {
      "cell_type": "code",
      "execution_count": null,
      "id": "93",
      "metadata": {
        "id": "93"
      },
      "outputs": [],
      "source": [
        "import calendar\n",
        "from geemap import chart"
      ]
    },
    {
      "cell_type": "markdown",
      "id": "94",
      "metadata": {
        "id": "94"
      },
      "source": [
        "#### feature_by_feature\n",
        "\n",
        "Features are plotted along the x-axis, labeled by values of a selected property. Series are represented by adjacent columns defined by a list of property names whose values are plotted along the y-axis."
      ]
    },
    {
      "cell_type": "code",
      "execution_count": null,
      "id": "95",
      "metadata": {
        "id": "95"
      },
      "outputs": [],
      "source": [
        "ecoregions = ee.FeatureCollection(\"projects/google/charts_feature_example\")\n",
        "features = ecoregions.select(\"[0-9][0-9]_tmean|label\")"
      ]
    },
    {
      "cell_type": "code",
      "execution_count": null,
      "id": "96",
      "metadata": {
        "id": "96"
      },
      "outputs": [],
      "source": [
        "geemap.ee_to_df(features)"
      ]
    },
    {
      "cell_type": "code",
      "execution_count": null,
      "id": "97",
      "metadata": {
        "id": "97"
      },
      "outputs": [],
      "source": [
        "x_property = \"label\"\n",
        "y_properties = [str(x).zfill(2) + \"_tmean\" for x in range(1, 13)]\n",
        "\n",
        "labels = calendar.month_abbr[1:]  # a list of month labels, e.g. ['Jan', 'Feb', ...]\n",
        "\n",
        "colors = [\n",
        "    \"#604791\",\n",
        "    \"#1d6b99\",\n",
        "    \"#39a8a7\",\n",
        "    \"#0f8755\",\n",
        "    \"#76b349\",\n",
        "    \"#f0af07\",\n",
        "    \"#e37d05\",\n",
        "    \"#cf513e\",\n",
        "    \"#96356f\",\n",
        "    \"#724173\",\n",
        "    \"#9c4f97\",\n",
        "    \"#696969\",\n",
        "]\n",
        "title = \"Average Monthly Temperature by Ecoregion\"\n",
        "x_label = \"Ecoregion\"\n",
        "y_label = \"Temperature\""
      ]
    },
    {
      "cell_type": "code",
      "execution_count": null,
      "id": "98",
      "metadata": {
        "id": "98"
      },
      "outputs": [],
      "source": [
        "fig = chart.feature_by_feature(\n",
        "    features,\n",
        "    x_property,\n",
        "    y_properties,\n",
        "    colors=colors,\n",
        "    labels=labels,\n",
        "    title=title,\n",
        "    x_label=x_label,\n",
        "    y_label=y_label,\n",
        ")\n",
        "fig"
      ]
    },
    {
      "cell_type": "markdown",
      "id": "99",
      "metadata": {
        "id": "99"
      },
      "source": [
        "![](https://i.imgur.com/MZa99Vf.png)"
      ]
    },
    {
      "cell_type": "markdown",
      "id": "100",
      "metadata": {
        "id": "100"
      },
      "source": [
        "#### feature.by_property"
      ]
    },
    {
      "cell_type": "code",
      "execution_count": null,
      "id": "101",
      "metadata": {
        "id": "101"
      },
      "outputs": [],
      "source": [
        "ecoregions = ee.FeatureCollection(\"projects/google/charts_feature_example\")\n",
        "features = ecoregions.select(\"[0-9][0-9]_ppt|label\")"
      ]
    },
    {
      "cell_type": "code",
      "execution_count": null,
      "id": "102",
      "metadata": {
        "id": "102"
      },
      "outputs": [],
      "source": [
        "geemap.ee_to_df(features)"
      ]
    },
    {
      "cell_type": "code",
      "execution_count": null,
      "id": "103",
      "metadata": {
        "id": "103"
      },
      "outputs": [],
      "source": [
        "keys = [str(x).zfill(2) + \"_ppt\" for x in range(1, 13)]\n",
        "values = calendar.month_abbr[1:]  # a list of month labels, e.g. ['Jan', 'Feb', ...]"
      ]
    },
    {
      "cell_type": "code",
      "execution_count": null,
      "id": "104",
      "metadata": {
        "id": "104"
      },
      "outputs": [],
      "source": [
        "x_properties = dict(zip(keys, values))\n",
        "series_property = \"label\"\n",
        "title = \"Average Ecoregion Precipitation by Month\"\n",
        "colors = [\"#f0af07\", \"#0f8755\", \"#76b349\"]"
      ]
    },
    {
      "cell_type": "code",
      "execution_count": null,
      "id": "105",
      "metadata": {
        "id": "105"
      },
      "outputs": [],
      "source": [
        "fig = chart.feature_by_property(\n",
        "    features,\n",
        "    x_properties,\n",
        "    series_property,\n",
        "    title=title,\n",
        "    colors=colors,\n",
        "    x_label=\"Month\",\n",
        "    y_label=\"Precipitation (mm)\",\n",
        "    legend_location=\"top-left\",\n",
        ")\n",
        "fig"
      ]
    },
    {
      "cell_type": "markdown",
      "id": "106",
      "metadata": {
        "id": "106"
      },
      "source": [
        "![](https://i.imgur.com/6RhuUc7.png)"
      ]
    },
    {
      "cell_type": "markdown",
      "id": "107",
      "metadata": {
        "id": "107"
      },
      "source": [
        "#### feature_groups"
      ]
    },
    {
      "cell_type": "code",
      "execution_count": null,
      "id": "108",
      "metadata": {
        "id": "108"
      },
      "outputs": [],
      "source": [
        "ecoregions = ee.FeatureCollection(\"projects/google/charts_feature_example\")\n",
        "features = ecoregions.select(\"[0-9][0-9]_ppt|label\")"
      ]
    },
    {
      "cell_type": "code",
      "execution_count": null,
      "id": "109",
      "metadata": {
        "id": "109"
      },
      "outputs": [],
      "source": [
        "features = ee.FeatureCollection(\"projects/google/charts_feature_example\")\n",
        "x_property = \"label\"\n",
        "y_property = \"01_tmean\"\n",
        "series_property = \"warm\"\n",
        "title = \"Average January Temperature by Ecoregion\"\n",
        "colors = [\"#cf513e\", \"#1d6b99\"]\n",
        "labels = [\"Warm\", \"Cold\"]"
      ]
    },
    {
      "cell_type": "code",
      "execution_count": null,
      "id": "110",
      "metadata": {
        "id": "110"
      },
      "outputs": [],
      "source": [
        "chart.feature_groups(\n",
        "    features,\n",
        "    x_property,\n",
        "    y_property,\n",
        "    series_property,\n",
        "    title=title,\n",
        "    colors=colors,\n",
        "    x_label=\"Ecoregion\",\n",
        "    y_label=\"January Temperature (°C)\",\n",
        "    legend_location=\"top-right\",\n",
        "    labels=labels,\n",
        ")"
      ]
    },
    {
      "cell_type": "markdown",
      "id": "111",
      "metadata": {
        "id": "111"
      },
      "source": [
        "![](https://i.imgur.com/YFZlJtc.png)"
      ]
    },
    {
      "cell_type": "markdown",
      "id": "112",
      "metadata": {
        "id": "112"
      },
      "source": [
        "#### feature_histogram"
      ]
    },
    {
      "cell_type": "code",
      "execution_count": null,
      "id": "113",
      "metadata": {
        "id": "113"
      },
      "outputs": [],
      "source": [
        "source = ee.ImageCollection(\"OREGONSTATE/PRISM/Norm91m\").toBands()\n",
        "region = ee.Geometry.Rectangle(-123.41, 40.43, -116.38, 45.14)\n",
        "features = source.sample(region, 5000)"
      ]
    },
    {
      "cell_type": "code",
      "execution_count": null,
      "id": "114",
      "metadata": {
        "id": "114"
      },
      "outputs": [],
      "source": [
        "geemap.ee_to_df(features.limit(5).select([\"07_ppt\"]))"
      ]
    },
    {
      "cell_type": "code",
      "execution_count": null,
      "id": "115",
      "metadata": {
        "id": "115"
      },
      "outputs": [],
      "source": [
        "property = \"07_ppt\"\n",
        "title = \"July Precipitation Distribution for NW USA\""
      ]
    },
    {
      "cell_type": "code",
      "execution_count": null,
      "id": "116",
      "metadata": {
        "id": "116"
      },
      "outputs": [],
      "source": [
        "fig = chart.feature_histogram(\n",
        "    features,\n",
        "    property,\n",
        "    max_buckets=None,\n",
        "    title=title,\n",
        "    x_label=\"Precipitation (mm)\",\n",
        "    y_label=\"Pixel Count\",\n",
        "    colors=[\"#1d6b99\"],\n",
        ")\n",
        "fig"
      ]
    },
    {
      "cell_type": "markdown",
      "id": "117",
      "metadata": {
        "id": "117"
      },
      "source": [
        "![](https://i.imgur.com/ErIp7Oy.png)\n",
        "\n",
        "### Image charts\n",
        "\n",
        "#### image_by_region"
      ]
    },
    {
      "cell_type": "code",
      "execution_count": null,
      "id": "118",
      "metadata": {
        "id": "118"
      },
      "outputs": [],
      "source": [
        "ecoregions = ee.FeatureCollection(\"projects/google/charts_feature_example\")\n",
        "image = (\n",
        "    ee.ImageCollection(\"OREGONSTATE/PRISM/Norm91m\").toBands().select(\"[0-9][0-9]_tmean\")\n",
        ")"
      ]
    },
    {
      "cell_type": "code",
      "execution_count": null,
      "id": "119",
      "metadata": {
        "id": "119"
      },
      "outputs": [],
      "source": [
        "labels = calendar.month_abbr[1:]  # a list of month labels, e.g. ['Jan', 'Feb', ...]\n",
        "title = \"Average Monthly Temperature by Ecoregion\""
      ]
    },
    {
      "cell_type": "code",
      "execution_count": null,
      "id": "120",
      "metadata": {
        "id": "120"
      },
      "outputs": [],
      "source": [
        "fig = chart.image_by_region(\n",
        "    image,\n",
        "    ecoregions,\n",
        "    reducer=\"mean\",\n",
        "    scale=500,\n",
        "    x_property=\"label\",\n",
        "    title=title,\n",
        "    x_label=\"Ecoregion\",\n",
        "    y_label=\"Temperature\",\n",
        "    labels=labels,\n",
        ")\n",
        "fig"
      ]
    },
    {
      "cell_type": "markdown",
      "id": "121",
      "metadata": {
        "id": "121"
      },
      "source": [
        "![](https://i.imgur.com/y4rp3dK.png)"
      ]
    },
    {
      "cell_type": "markdown",
      "id": "122",
      "metadata": {
        "id": "122"
      },
      "source": [
        "#### image_regions"
      ]
    },
    {
      "cell_type": "code",
      "execution_count": null,
      "id": "123",
      "metadata": {
        "id": "123"
      },
      "outputs": [],
      "source": [
        "ecoregions = ee.FeatureCollection(\"projects/google/charts_feature_example\")\n",
        "image = (\n",
        "    ee.ImageCollection(\"OREGONSTATE/PRISM/Norm91m\").toBands().select(\"[0-9][0-9]_ppt\")\n",
        ")"
      ]
    },
    {
      "cell_type": "code",
      "execution_count": null,
      "id": "124",
      "metadata": {
        "id": "124"
      },
      "outputs": [],
      "source": [
        "keys = [str(x).zfill(2) + \"_ppt\" for x in range(1, 13)]\n",
        "values = calendar.month_abbr[1:]  # a list of month labels, e.g. ['Jan', 'Feb', ...]"
      ]
    },
    {
      "cell_type": "code",
      "execution_count": null,
      "id": "125",
      "metadata": {
        "id": "125"
      },
      "outputs": [],
      "source": [
        "x_properties = dict(zip(keys, values))\n",
        "title = \"Average Ecoregion Precipitation by Month\"\n",
        "colors = [\"#f0af07\", \"#0f8755\", \"#76b349\"]"
      ]
    },
    {
      "cell_type": "code",
      "execution_count": null,
      "id": "126",
      "metadata": {
        "id": "126"
      },
      "outputs": [],
      "source": [
        "fig = chart.image_regions(\n",
        "    image,\n",
        "    ecoregions,\n",
        "    reducer=\"mean\",\n",
        "    scale=500,\n",
        "    series_property=\"label\",\n",
        "    x_labels=x_properties,\n",
        "    title=title,\n",
        "    colors=colors,\n",
        "    x_label=\"Month\",\n",
        "    y_label=\"Precipitation (mm)\",\n",
        "    legend_location=\"top-left\",\n",
        ")"
      ]
    },
    {
      "cell_type": "markdown",
      "id": "127",
      "metadata": {
        "id": "127"
      },
      "source": [
        "![](https://i.imgur.com/5WJVCNY.png)"
      ]
    },
    {
      "cell_type": "markdown",
      "id": "128",
      "metadata": {
        "id": "128"
      },
      "source": [
        "#### image_by_class"
      ]
    },
    {
      "cell_type": "code",
      "execution_count": null,
      "id": "129",
      "metadata": {
        "id": "129"
      },
      "outputs": [],
      "source": [
        "ecoregions = ee.FeatureCollection(\"projects/google/charts_feature_example\")\n",
        "\n",
        "image = (\n",
        "    ee.ImageCollection(\"MODIS/061/MOD09A1\")\n",
        "    .filter(ee.Filter.date(\"2018-06-01\", \"2018-09-01\"))\n",
        "    .select(\"sur_refl_b0[0-7]\")\n",
        "    .mean()\n",
        "    .select([2, 3, 0, 1, 4, 5, 6])\n",
        ")\n",
        "\n",
        "wavelengths = [469, 555, 655, 858, 1240, 1640, 2130]"
      ]
    },
    {
      "cell_type": "code",
      "execution_count": null,
      "id": "130",
      "metadata": {
        "id": "130"
      },
      "outputs": [],
      "source": [
        "fig = chart.image_by_class(\n",
        "    image,\n",
        "    class_band=\"label\",\n",
        "    region=ecoregions,\n",
        "    reducer=\"MEAN\",\n",
        "    scale=500,\n",
        "    x_labels=wavelengths,\n",
        "    title=\"Ecoregion Spectral Signatures\",\n",
        "    x_label=\"Wavelength (nm)\",\n",
        "    y_label=\"Reflectance (x1e4)\",\n",
        "    colors=[\"#f0af07\", \"#0f8755\", \"#76b349\"],\n",
        "    legend_location=\"top-left\",\n",
        "    interpolation=\"basis\",\n",
        ")\n",
        "fig"
      ]
    },
    {
      "cell_type": "markdown",
      "id": "131",
      "metadata": {
        "id": "131"
      },
      "source": [
        "![](https://i.imgur.com/XqYHvBV.png)"
      ]
    },
    {
      "cell_type": "markdown",
      "id": "132",
      "metadata": {
        "id": "132"
      },
      "source": [
        "#### image_histogram"
      ]
    },
    {
      "cell_type": "code",
      "execution_count": null,
      "id": "133",
      "metadata": {
        "id": "133"
      },
      "outputs": [],
      "source": [
        "image = (\n",
        "    ee.ImageCollection(\"MODIS/061/MOD09A1\")\n",
        "    .filter(ee.Filter.date(\"2018-06-01\", \"2018-09-01\"))\n",
        "    .select([\"sur_refl_b01\", \"sur_refl_b02\", \"sur_refl_b06\"])\n",
        "    .mean()\n",
        ")\n",
        "\n",
        "region = ee.Geometry.Rectangle([-112.60, 40.60, -111.18, 41.22])"
      ]
    },
    {
      "cell_type": "code",
      "execution_count": null,
      "id": "134",
      "metadata": {
        "id": "134"
      },
      "outputs": [],
      "source": [
        "fig = chart.image_histogram(\n",
        "    image,\n",
        "    region,\n",
        "    scale=500,\n",
        "    max_buckets=200,\n",
        "    min_bucket_width=1.0,\n",
        "    max_raw=1000,\n",
        "    max_pixels=int(1e6),\n",
        "    title=\"MODIS SR Reflectance Histogram\",\n",
        "    labels=[\"Red\", \"NIR\", \"SWIR\"],\n",
        "    colors=[\"#cf513e\", \"#1d6b99\", \"#f0af07\"],\n",
        ")\n",
        "fig"
      ]
    },
    {
      "cell_type": "markdown",
      "id": "135",
      "metadata": {
        "id": "135"
      },
      "source": [
        "![](https://i.imgur.com/mY4yoYH.png)\n",
        "\n",
        "### ImageCollection charts\n",
        "\n",
        "#### image_series"
      ]
    },
    {
      "cell_type": "code",
      "execution_count": null,
      "id": "136",
      "metadata": {
        "id": "136"
      },
      "outputs": [],
      "source": [
        "# Define the forest feature collection.\n",
        "forest = ee.FeatureCollection(\"projects/google/charts_feature_example\").filter(\n",
        "    ee.Filter.eq(\"label\", \"Forest\")\n",
        ")\n",
        "\n",
        "# Load MODIS vegetation indices data and subset a decade of images.\n",
        "veg_indices = (\n",
        "    ee.ImageCollection(\"MODIS/061/MOD13A1\")\n",
        "    .filter(ee.Filter.date(\"2010-01-01\", \"2020-01-01\"))\n",
        "    .select([\"NDVI\", \"EVI\"])\n",
        ")"
      ]
    },
    {
      "cell_type": "code",
      "execution_count": null,
      "id": "137",
      "metadata": {
        "id": "137"
      },
      "outputs": [],
      "source": [
        "title = \"Average Vegetation Index Value by Date for Forest\"\n",
        "x_label = \"Year\"\n",
        "y_label = \"Vegetation index (x1e4)\"\n",
        "colors = [\"#e37d05\", \"#1d6b99\"]"
      ]
    },
    {
      "cell_type": "code",
      "execution_count": null,
      "id": "138",
      "metadata": {
        "id": "138"
      },
      "outputs": [],
      "source": [
        "fig = chart.image_series(\n",
        "    veg_indices,\n",
        "    region=forest,\n",
        "    reducer=ee.Reducer.mean(),\n",
        "    scale=500,\n",
        "    x_property=\"system:time_start\",\n",
        "    chart_type=\"LineChart\",\n",
        "    x_cols=\"date\",\n",
        "    y_cols=[\"NDVI\", \"EVI\"],\n",
        "    colors=colors,\n",
        "    title=title,\n",
        "    x_label=x_label,\n",
        "    y_label=y_label,\n",
        "    legend_location=\"right\",\n",
        ")\n",
        "fig"
      ]
    },
    {
      "cell_type": "markdown",
      "id": "139",
      "metadata": {
        "id": "139"
      },
      "source": [
        "![](https://i.imgur.com/r9zSJh6.png)"
      ]
    },
    {
      "cell_type": "markdown",
      "id": "140",
      "metadata": {
        "id": "140"
      },
      "source": [
        "#### image_series_by_region"
      ]
    },
    {
      "cell_type": "code",
      "execution_count": null,
      "id": "141",
      "metadata": {
        "id": "141"
      },
      "outputs": [],
      "source": [
        "# Import the example feature collection.\n",
        "ecoregions = ee.FeatureCollection(\"projects/google/charts_feature_example\")\n",
        "\n",
        "# Load MODIS vegetation indices data and subset a decade of images.\n",
        "veg_indices = (\n",
        "    ee.ImageCollection(\"MODIS/061/MOD13A1\")\n",
        "    .filter(ee.Filter.date(\"2010-01-01\", \"2020-01-01\"))\n",
        "    .select([\"NDVI\"])\n",
        ")"
      ]
    },
    {
      "cell_type": "code",
      "execution_count": null,
      "id": "142",
      "metadata": {
        "id": "142"
      },
      "outputs": [],
      "source": [
        "title = \"Average NDVI Value by Date\"\n",
        "x_label = \"Date\"\n",
        "y_label = \"NDVI (x1e4)\"\n",
        "x_cols = \"index\"\n",
        "y_cols = [\"Desert\", \"Forest\", \"Grassland\"]\n",
        "colors = [\"#f0af07\", \"#0f8755\", \"#76b349\"]"
      ]
    },
    {
      "cell_type": "code",
      "execution_count": null,
      "id": "143",
      "metadata": {
        "id": "143"
      },
      "outputs": [],
      "source": [
        "fig = chart.image_series_by_region(\n",
        "    veg_indices,\n",
        "    regions=ecoregions,\n",
        "    reducer=ee.Reducer.mean(),\n",
        "    band=\"NDVI\",\n",
        "    scale=500,\n",
        "    x_property=\"system:time_start\",\n",
        "    series_property=\"label\",\n",
        "    chart_type=\"LineChart\",\n",
        "    x_cols=x_cols,\n",
        "    y_cols=y_cols,\n",
        "    title=title,\n",
        "    x_label=x_label,\n",
        "    y_label=y_label,\n",
        "    colors=colors,\n",
        "    stroke_width=3,\n",
        "    legend_location=\"bottom-left\",\n",
        ")\n",
        "fig"
      ]
    },
    {
      "cell_type": "markdown",
      "id": "144",
      "metadata": {
        "id": "144"
      },
      "source": [
        "![](https://i.imgur.com/rnILSfI.png)"
      ]
    },
    {
      "cell_type": "markdown",
      "id": "145",
      "metadata": {
        "id": "145"
      },
      "source": [
        "#### image_doy_series"
      ]
    },
    {
      "cell_type": "code",
      "execution_count": null,
      "id": "146",
      "metadata": {
        "id": "146"
      },
      "outputs": [],
      "source": [
        "# Import the example feature collection and subset the grassland feature.\n",
        "grassland = ee.FeatureCollection(\"projects/google/charts_feature_example\").filter(\n",
        "    ee.Filter.eq(\"label\", \"Grassland\")\n",
        ")\n",
        "\n",
        "# Load MODIS vegetation indices data and subset a decade of images.\n",
        "veg_indices = (\n",
        "    ee.ImageCollection(\"MODIS/061/MOD13A1\")\n",
        "    .filter(ee.Filter.date(\"2010-01-01\", \"2020-01-01\"))\n",
        "    .select([\"NDVI\", \"EVI\"])\n",
        ")"
      ]
    },
    {
      "cell_type": "code",
      "execution_count": null,
      "id": "147",
      "metadata": {
        "id": "147"
      },
      "outputs": [],
      "source": [
        "title = \"Average Vegetation Index Value by Day of Year for Grassland\"\n",
        "x_label = \"Day of Year\"\n",
        "y_label = \"Vegetation Index (x1e4)\"\n",
        "colors = [\"#f0af07\", \"#0f8755\"]"
      ]
    },
    {
      "cell_type": "code",
      "execution_count": null,
      "id": "148",
      "metadata": {
        "id": "148"
      },
      "outputs": [],
      "source": [
        "fig = chart.image_doy_series(\n",
        "    image_collection=veg_indices,\n",
        "    region=grassland,\n",
        "    scale=500,\n",
        "    chart_type=\"LineChart\",\n",
        "    title=title,\n",
        "    x_label=x_label,\n",
        "    y_label=y_label,\n",
        "    colors=colors,\n",
        "    stroke_width=5,\n",
        ")\n",
        "fig"
      ]
    },
    {
      "cell_type": "markdown",
      "id": "149",
      "metadata": {
        "id": "149"
      },
      "source": [
        "![](https://i.imgur.com/F0z088e.png)"
      ]
    },
    {
      "cell_type": "markdown",
      "id": "150",
      "metadata": {
        "id": "150"
      },
      "source": [
        "#### image_doy_series_by_year"
      ]
    },
    {
      "cell_type": "code",
      "execution_count": null,
      "id": "151",
      "metadata": {
        "id": "151"
      },
      "outputs": [],
      "source": [
        "# Import the example feature collection and subset the grassland feature.\n",
        "grassland = ee.FeatureCollection(\"projects/google/charts_feature_example\").filter(\n",
        "    ee.Filter.eq(\"label\", \"Grassland\")\n",
        ")\n",
        "\n",
        "# Load MODIS vegetation indices data and subset years 2012 and 2019.\n",
        "veg_indices = (\n",
        "    ee.ImageCollection(\"MODIS/061/MOD13A1\")\n",
        "    .filter(\n",
        "        ee.Filter.Or(\n",
        "            ee.Filter.date(\"2012-01-01\", \"2013-01-01\"),\n",
        "            ee.Filter.date(\"2019-01-01\", \"2020-01-01\"),\n",
        "        )\n",
        "    )\n",
        "    .select([\"NDVI\", \"EVI\"])\n",
        ")"
      ]
    },
    {
      "cell_type": "code",
      "execution_count": null,
      "id": "152",
      "metadata": {
        "id": "152"
      },
      "outputs": [],
      "source": [
        "title = \"Average Vegetation Index Value by Day of Year for Grassland\"\n",
        "x_label = \"Day of Year\"\n",
        "y_label = \"Vegetation Index (x1e4)\"\n",
        "colors = [\"#e37d05\", \"#1d6b99\"]"
      ]
    },
    {
      "cell_type": "code",
      "execution_count": null,
      "id": "153",
      "metadata": {
        "id": "153"
      },
      "outputs": [],
      "source": [
        "fig = chart.doy_series_by_year(\n",
        "    veg_indices,\n",
        "    band_name=\"NDVI\",\n",
        "    region=grassland,\n",
        "    scale=500,\n",
        "    chart_type=\"LineChart\",\n",
        "    colors=colors,\n",
        "    title=title,\n",
        "    x_label=x_label,\n",
        "    y_label=y_label,\n",
        "    stroke_width=5,\n",
        ")\n",
        "fig"
      ]
    },
    {
      "cell_type": "markdown",
      "id": "154",
      "metadata": {
        "id": "154"
      },
      "source": [
        "![](https://i.imgur.com/ui6zpbl.png)"
      ]
    },
    {
      "cell_type": "markdown",
      "id": "155",
      "metadata": {
        "id": "155"
      },
      "source": [
        "#### image_doy_series_by_region"
      ]
    },
    {
      "cell_type": "code",
      "execution_count": null,
      "id": "156",
      "metadata": {
        "id": "156"
      },
      "outputs": [],
      "source": [
        "# Import the example feature collection and subset the grassland feature.\n",
        "ecoregions = ee.FeatureCollection(\"projects/google/charts_feature_example\")\n",
        "\n",
        "# Load MODIS vegetation indices data and subset a decade of images.\n",
        "veg_indices = (\n",
        "    ee.ImageCollection(\"MODIS/061/MOD13A1\")\n",
        "    .filter(ee.Filter.date(\"2010-01-01\", \"2020-01-01\"))\n",
        "    .select([\"NDVI\"])\n",
        ")"
      ]
    },
    {
      "cell_type": "code",
      "execution_count": null,
      "id": "157",
      "metadata": {
        "id": "157"
      },
      "outputs": [],
      "source": [
        "title = \"Average Vegetation Index Value by Day of Year for Grassland\"\n",
        "x_label = \"Day of Year\"\n",
        "y_label = \"Vegetation Index (x1e4)\"\n",
        "colors = [\"#f0af07\", \"#0f8755\", \"#76b349\"]"
      ]
    },
    {
      "cell_type": "code",
      "execution_count": null,
      "id": "158",
      "metadata": {
        "id": "158"
      },
      "outputs": [],
      "source": [
        "fig = chart.image_doy_series_by_region(\n",
        "    veg_indices,\n",
        "    \"NDVI\",\n",
        "    ecoregions,\n",
        "    region_reducer=\"mean\",\n",
        "    scale=500,\n",
        "    year_reducer=ee.Reducer.mean(),\n",
        "    start_day=1,\n",
        "    end_day=366,\n",
        "    series_property=\"label\",\n",
        "    stroke_width=5,\n",
        "    chart_type=\"LineChart\",\n",
        "    title=title,\n",
        "    x_label=x_label,\n",
        "    y_label=y_label,\n",
        "    colors=colors,\n",
        "    legend_location=\"right\",\n",
        ")\n",
        "fig"
      ]
    },
    {
      "cell_type": "markdown",
      "id": "159",
      "metadata": {
        "id": "159"
      },
      "source": [
        "![](https://i.imgur.com/eGqGoRs.png)\n",
        "\n",
        "### Array and list charts\n",
        "\n",
        "#### Scatter plot"
      ]
    },
    {
      "cell_type": "code",
      "execution_count": null,
      "id": "160",
      "metadata": {
        "id": "160"
      },
      "outputs": [],
      "source": [
        "# Import the example feature collection and subset the forest feature.\n",
        "forest = ee.FeatureCollection(\"projects/google/charts_feature_example\").filter(\n",
        "    ee.Filter.eq(\"label\", \"Forest\")\n",
        ")\n",
        "\n",
        "# Define a MODIS surface reflectance composite.\n",
        "modisSr = (\n",
        "    ee.ImageCollection(\"MODIS/061/MOD09A1\")\n",
        "    .filter(ee.Filter.date(\"2018-06-01\", \"2018-09-01\"))\n",
        "    .select(\"sur_refl_b0[0-7]\")\n",
        "    .mean()\n",
        ")\n",
        "\n",
        "# Reduce MODIS reflectance bands by forest region; get a dictionary with\n",
        "# band names as keys, pixel values as lists.\n",
        "pixel_vals = modisSr.reduceRegion(\n",
        "    **{\"reducer\": ee.Reducer.toList(), \"geometry\": forest.geometry(), \"scale\": 2000}\n",
        ")\n",
        "\n",
        "# Convert NIR and SWIR value lists to an array to be plotted along the y-axis.\n",
        "y_values = pixel_vals.toArray([\"sur_refl_b02\", \"sur_refl_b06\"])\n",
        "\n",
        "\n",
        "# Get the red band value list; to be plotted along the x-axis.\n",
        "x_values = ee.List(pixel_vals.get(\"sur_refl_b01\"))"
      ]
    },
    {
      "cell_type": "code",
      "execution_count": null,
      "id": "161",
      "metadata": {
        "id": "161"
      },
      "outputs": [],
      "source": [
        "title = \"Relationship Among Spectral Bands for Forest Pixels\"\n",
        "colors = [\"rgba(29,107,153,0.4)\", \"rgba(207,81,62,0.4)\"]"
      ]
    },
    {
      "cell_type": "code",
      "execution_count": null,
      "id": "162",
      "metadata": {
        "id": "162"
      },
      "outputs": [],
      "source": [
        "fig = chart.array_values(\n",
        "    y_values,\n",
        "    axis=1,\n",
        "    x_labels=x_values,\n",
        "    series_names=[\"NIR\", \"SWIR\"],\n",
        "    chart_type=\"ScatterChart\",\n",
        "    colors=colors,\n",
        "    title=title,\n",
        "    x_label=\"Red reflectance (x1e4)\",\n",
        "    y_label=\"NIR & SWIR reflectance (x1e4)\",\n",
        "    default_size=15,\n",
        "    xlim=(0, 800),\n",
        ")\n",
        "fig"
      ]
    },
    {
      "cell_type": "markdown",
      "id": "163",
      "metadata": {
        "id": "163"
      },
      "source": [
        "![](https://i.imgur.com/zkPlZIO.png)"
      ]
    },
    {
      "cell_type": "code",
      "execution_count": null,
      "id": "164",
      "metadata": {
        "id": "164"
      },
      "outputs": [],
      "source": [
        "x = ee.List(pixel_vals.get(\"sur_refl_b01\"))\n",
        "y = ee.List(pixel_vals.get(\"sur_refl_b06\"))"
      ]
    },
    {
      "cell_type": "code",
      "execution_count": null,
      "id": "165",
      "metadata": {
        "id": "165"
      },
      "outputs": [],
      "source": [
        "fig = chart.array_values(\n",
        "    y,\n",
        "    x_labels=x,\n",
        "    series_names=[\"SWIR\"],\n",
        "    chart_type=\"ScatterChart\",\n",
        "    colors=[\"rgba(207,81,62,0.4)\"],\n",
        "    title=title,\n",
        "    x_label=\"Red reflectance (x1e4)\",\n",
        "    y_label=\"SWIR reflectance (x1e4)\",\n",
        "    default_size=15,\n",
        "    xlim=(0, 800),\n",
        ")\n",
        "fig"
      ]
    },
    {
      "cell_type": "markdown",
      "id": "166",
      "metadata": {
        "id": "166"
      },
      "source": [
        "![](https://i.imgur.com/WHUHjH6.png)"
      ]
    },
    {
      "cell_type": "markdown",
      "id": "167",
      "metadata": {
        "id": "167"
      },
      "source": [
        " #### Transect line plot"
      ]
    },
    {
      "cell_type": "code",
      "execution_count": null,
      "id": "168",
      "metadata": {
        "id": "168"
      },
      "outputs": [],
      "source": [
        "# Define a line across the Olympic Peninsula, USA.\n",
        "transect = ee.Geometry.LineString([[-122.8, 47.8], [-124.5, 47.8]])\n",
        "\n",
        "# Define a pixel coordinate image.\n",
        "lat_lon_img = ee.Image.pixelLonLat()\n",
        "\n",
        "# Import a digital surface model and add latitude and longitude bands.\n",
        "elev_img = ee.Image(\"USGS/SRTMGL1_003\").select(\"elevation\").addBands(lat_lon_img)\n",
        "\n",
        "# Reduce elevation and coordinate bands by transect line; get a dictionary with\n",
        "# band names as keys, pixel values as lists.\n",
        "elev_transect = elev_img.reduceRegion(\n",
        "    reducer=ee.Reducer.toList(),\n",
        "    geometry=transect,\n",
        "    scale=1000,\n",
        ")\n",
        "\n",
        "# Get longitude and elevation value lists from the reduction dictionary.\n",
        "lon = ee.List(elev_transect.get(\"longitude\"))\n",
        "elev = ee.List(elev_transect.get(\"elevation\"))\n",
        "\n",
        "# Sort the longitude and elevation values by ascending longitude.\n",
        "lon_sort = lon.sort(lon)\n",
        "elev_sort = elev.sort(lon)"
      ]
    },
    {
      "cell_type": "code",
      "execution_count": null,
      "id": "169",
      "metadata": {
        "id": "169"
      },
      "outputs": [],
      "source": [
        "fig = chart.array_values(\n",
        "    elev_sort,\n",
        "    x_labels=lon_sort,\n",
        "    series_names=[\"Elevation\"],\n",
        "    chart_type=\"AreaChart\",\n",
        "    colors=[\"#1d6b99\"],\n",
        "    title=\"Elevation Profile Across Longitude\",\n",
        "    x_label=\"Longitude\",\n",
        "    y_label=\"Elevation (m)\",\n",
        "    stroke_width=5,\n",
        "    fill=\"bottom\",\n",
        "    fill_opacities=[0.4],\n",
        "    ylim=(0, 2500),\n",
        ")\n",
        "fig"
      ]
    },
    {
      "cell_type": "markdown",
      "id": "170",
      "metadata": {
        "id": "170"
      },
      "source": [
        "![](https://i.imgur.com/k3XRita.png)"
      ]
    },
    {
      "cell_type": "markdown",
      "id": "171",
      "metadata": {
        "id": "171"
      },
      "source": [
        "#### Metadata scatter plot"
      ]
    },
    {
      "cell_type": "code",
      "execution_count": null,
      "id": "172",
      "metadata": {
        "id": "172"
      },
      "outputs": [],
      "source": [
        "# Import a Landsat 8 collection and filter to a single path/row.\n",
        "col = ee.ImageCollection(\"LANDSAT/LC08/C02/T1_L2\").filter(\n",
        "    ee.Filter.expression(\"WRS_PATH ==  45 && WRS_ROW == 30\")\n",
        ")\n",
        "\n",
        "# Reduce image properties to a series of lists; one for each selected property.\n",
        "propVals = col.reduceColumns(\n",
        "    reducer=ee.Reducer.toList().repeat(2),\n",
        "    selectors=[\"CLOUD_COVER\", \"GEOMETRIC_RMSE_MODEL\"],\n",
        ").get(\"list\")\n",
        "\n",
        "# Get selected image property value lists; to be plotted along x and y axes.\n",
        "x = ee.List(ee.List(propVals).get(0))\n",
        "y = ee.List(ee.List(propVals).get(1))"
      ]
    },
    {
      "cell_type": "code",
      "execution_count": null,
      "id": "173",
      "metadata": {
        "id": "173"
      },
      "outputs": [],
      "source": [
        "colors = [geemap.hex_to_rgba(\"#96356f\", 0.4)]\n",
        "print(colors)"
      ]
    },
    {
      "cell_type": "code",
      "execution_count": null,
      "id": "174",
      "metadata": {
        "id": "174"
      },
      "outputs": [],
      "source": [
        "fig = chart.array_values(\n",
        "    y,\n",
        "    x_labels=x,\n",
        "    series_names=[\"RMSE\"],\n",
        "    chart_type=\"ScatterChart\",\n",
        "    colors=colors,\n",
        "    title=\"Landsat 8 Image Collection Metadata (045030)\",\n",
        "    x_label=\"Cloud cover (%)\",\n",
        "    y_label=\"Geometric RMSE (m)\",\n",
        "    default_size=15,\n",
        ")\n",
        "fig"
      ]
    },
    {
      "cell_type": "markdown",
      "id": "175",
      "metadata": {
        "id": "175"
      },
      "source": [
        "![](https://i.imgur.com/3COY3xd.png)"
      ]
    },
    {
      "cell_type": "markdown",
      "id": "176",
      "metadata": {
        "id": "176"
      },
      "source": [
        "#### Mapped function scatter & line plot"
      ]
    },
    {
      "cell_type": "code",
      "execution_count": null,
      "id": "177",
      "metadata": {
        "id": "177"
      },
      "outputs": [],
      "source": [
        "import math\n",
        "\n",
        "start = -2 * math.pi\n",
        "end = 2 * math.pi\n",
        "points = ee.List.sequence(start, end, None, 50)\n",
        "\n",
        "\n",
        "def sin_func(val):\n",
        "    return ee.Number(val).sin()\n",
        "\n",
        "\n",
        "values = points.map(sin_func)"
      ]
    },
    {
      "cell_type": "code",
      "execution_count": null,
      "id": "178",
      "metadata": {
        "id": "178"
      },
      "outputs": [],
      "source": [
        "fig = chart.array_values(\n",
        "    values,\n",
        "    points,\n",
        "    chart_type=\"LineChart\",\n",
        "    colors=[\"#39a8a7\"],\n",
        "    title=\"Sine Function\",\n",
        "    x_label=\"radians\",\n",
        "    y_label=\"sin(x)\",\n",
        "    marker=\"circle\",\n",
        ")\n",
        "fig"
      ]
    },
    {
      "cell_type": "markdown",
      "id": "179",
      "metadata": {
        "id": "179"
      },
      "source": [
        "![](https://i.imgur.com/7qcxvey.png)\n",
        "\n",
        "### Data table charts"
      ]
    },
    {
      "cell_type": "code",
      "execution_count": null,
      "id": "180",
      "metadata": {
        "id": "180"
      },
      "outputs": [],
      "source": [
        "import pandas as pd"
      ]
    },
    {
      "cell_type": "markdown",
      "id": "181",
      "metadata": {
        "id": "181"
      },
      "source": [
        "#### Manual DataTable chart"
      ]
    },
    {
      "cell_type": "code",
      "execution_count": null,
      "id": "182",
      "metadata": {
        "id": "182"
      },
      "outputs": [],
      "source": [
        "data = {\n",
        "    \"State\": [\"CA\", \"NY\", \"IL\", \"MI\", \"OR\"],\n",
        "    \"Population\": [37253956, 19378102, 12830632, 9883640, 3831074],\n",
        "}\n",
        "\n",
        "df = pd.DataFrame(data)\n",
        "df"
      ]
    },
    {
      "cell_type": "code",
      "execution_count": null,
      "id": "183",
      "metadata": {
        "id": "183"
      },
      "outputs": [],
      "source": [
        "fig = chart.Chart(\n",
        "    df,\n",
        "    x_cols=[\"State\"],\n",
        "    y_cols=[\"Population\"],\n",
        "    chart_type=\"ColumnChart\",\n",
        "    colors=[\"#1d6b99\"],\n",
        "    title=\"State Population (US census, 2010)\",\n",
        "    x_label=\"State\",\n",
        "    y_label=\"Population\",\n",
        ")\n",
        "fig"
      ]
    },
    {
      "cell_type": "markdown",
      "id": "184",
      "metadata": {
        "id": "184"
      },
      "source": [
        "![](https://i.imgur.com/vuxNmuh.png)"
      ]
    },
    {
      "cell_type": "markdown",
      "id": "185",
      "metadata": {
        "id": "185"
      },
      "source": [
        "#### Computed DataTable chart"
      ]
    },
    {
      "cell_type": "code",
      "execution_count": null,
      "id": "186",
      "metadata": {
        "id": "186"
      },
      "outputs": [],
      "source": [
        "# Import the example feature collection and subset the forest feature.\n",
        "forest = ee.FeatureCollection(\"projects/google/charts_feature_example\").filter(\n",
        "    ee.Filter.eq(\"label\", \"Forest\")\n",
        ")\n",
        "\n",
        "# Load MODIS vegetation indices data and subset a decade of images.\n",
        "veg_indices = (\n",
        "    ee.ImageCollection(\"MODIS/061/MOD13A1\")\n",
        "    .filter(ee.Filter.date(\"2010-01-01\", \"2020-01-01\"))\n",
        "    .select([\"NDVI\", \"EVI\"])\n",
        ")\n",
        "\n",
        "# Build a feature collection where each feature has a property that represents\n",
        "# a DataFrame row.\n",
        "\n",
        "\n",
        "def aggregate(img):\n",
        "    # Reduce the image to the mean of pixels intersecting the forest ecoregion.\n",
        "    stat = img.reduceRegion(\n",
        "        **{\"reducer\": ee.Reducer.mean(), \"geometry\": forest, \"scale\": 500}\n",
        "    )\n",
        "\n",
        "    # Extract the reduction results along with the image date.\n",
        "    date = geemap.image_date(img)\n",
        "    evi = stat.get(\"EVI\")\n",
        "    ndvi = stat.get(\"NDVI\")\n",
        "\n",
        "    # Make a list of observation attributes to define a row in the DataTable.\n",
        "    row = ee.List([date, evi, ndvi])\n",
        "\n",
        "    # Return the row as a property of an ee.Feature.\n",
        "    return ee.Feature(None, {\"row\": row})\n",
        "\n",
        "\n",
        "reduction_table = veg_indices.map(aggregate)\n",
        "\n",
        "# Aggregate the 'row' property from all features in the new feature collection\n",
        "# to make a server-side 2-D list (DataTable).\n",
        "data_table_server = reduction_table.aggregate_array(\"row\")\n",
        "\n",
        "# Define column names and properties for the DataTable. The order should\n",
        "# correspond to the order in the construction of the 'row' property above.\n",
        "column_header = ee.List([[\"Date\", \"EVI\", \"NDVI\"]])\n",
        "\n",
        "# Concatenate the column header to the table.\n",
        "data_table_server = column_header.cat(data_table_server)"
      ]
    },
    {
      "cell_type": "code",
      "execution_count": null,
      "id": "187",
      "metadata": {
        "id": "187"
      },
      "outputs": [],
      "source": [
        "data_table = chart.DataTable(data_table_server, date_column=\"Date\")\n",
        "data_table.head()"
      ]
    },
    {
      "cell_type": "code",
      "execution_count": null,
      "id": "188",
      "metadata": {
        "id": "188"
      },
      "outputs": [],
      "source": [
        "fig = chart.Chart(\n",
        "    data_table,\n",
        "    chart_type=\"LineChart\",\n",
        "    x_cols=\"Date\",\n",
        "    y_cols=[\"EVI\", \"NDVI\"],\n",
        "    colors=[\"#e37d05\", \"#1d6b99\"],\n",
        "    title=\"Average Vegetation Index Value by Date for Forest\",\n",
        "    x_label=\"Date\",\n",
        "    y_label=\"Vegetation index (x1e4)\",\n",
        "    stroke_width=3,\n",
        "    legend_location=\"right\",\n",
        ")\n",
        "fig"
      ]
    },
    {
      "cell_type": "markdown",
      "id": "189",
      "metadata": {
        "id": "189"
      },
      "source": [
        "![](https://i.imgur.com/PWei7QC.png)"
      ]
    },
    {
      "cell_type": "markdown",
      "id": "190",
      "metadata": {
        "id": "190"
      },
      "source": [
        "#### Interval chart"
      ]
    },
    {
      "cell_type": "code",
      "execution_count": null,
      "id": "191",
      "metadata": {
        "id": "191"
      },
      "outputs": [],
      "source": [
        "# Define a point to extract an NDVI time series for.\n",
        "geometry = ee.Geometry.Point([-121.679, 36.479])\n",
        "\n",
        "# Define a band of interest (NDVI), import the MODIS vegetation index dataset,\n",
        "# and select the band.\n",
        "band = \"NDVI\"\n",
        "ndvi_col = ee.ImageCollection(\"MODIS/061/MOD13Q1\").select(band)\n",
        "\n",
        "# Map over the collection to add a day of year (doy) property to each image.\n",
        "\n",
        "\n",
        "def set_doy(img):\n",
        "    doy = ee.Date(img.get(\"system:time_start\")).getRelative(\"day\", \"year\")\n",
        "    # Add 8 to day of year number so that the doy label represents the middle of\n",
        "    # the 16-day MODIS NDVI composite.\n",
        "    return img.set(\"doy\", ee.Number(doy).add(8))\n",
        "\n",
        "\n",
        "ndvi_col = ndvi_col.map(set_doy)\n",
        "\n",
        "# Join all coincident day of year observations into a set of image collections.\n",
        "distinct_doy = ndvi_col.filterDate(\"2013-01-01\", \"2014-01-01\")\n",
        "filter = ee.Filter.equals(**{\"leftField\": \"doy\", \"rightField\": \"doy\"})\n",
        "join = ee.Join.saveAll(\"doy_matches\")\n",
        "join_col = ee.ImageCollection(join.apply(distinct_doy, ndvi_col, filter))\n",
        "\n",
        "# Calculate the absolute range, interquartile range, and median for the set\n",
        "# of images composing each coincident doy observation group. The result is\n",
        "# an image collection with an image representative per unique doy observation\n",
        "# with bands that describe the 0, 25, 50, 75, 100 percentiles for the set of\n",
        "# coincident doy images.\n",
        "\n",
        "\n",
        "def cal_percentiles(img):\n",
        "    doyCol = ee.ImageCollection.fromImages(img.get(\"doy_matches\"))\n",
        "\n",
        "    return doyCol.reduce(\n",
        "        ee.Reducer.percentile([0, 25, 50, 75, 100], [\"p0\", \"p25\", \"p50\", \"p75\", \"p100\"])\n",
        "    ).set({\"doy\": img.get(\"doy\")})\n",
        "\n",
        "\n",
        "comp = ee.ImageCollection(join_col.map(cal_percentiles))\n",
        "\n",
        "# Extract the inter-annual NDVI doy percentile statistics for the\n",
        "# point of interest per unique doy representative. The result is\n",
        "# is a feature collection where each feature is a doy representative that\n",
        "# contains a property (row) describing the respective inter-annual NDVI\n",
        "# variance, formatted as a list of values.\n",
        "\n",
        "\n",
        "def order_percentiles(img):\n",
        "    stats = ee.Dictionary(\n",
        "        img.reduceRegion(\n",
        "            **{\"reducer\": ee.Reducer.first(), \"geometry\": geometry, \"scale\": 250}\n",
        "        )\n",
        "    )\n",
        "\n",
        "    # Order the percentile reduction elements according to how you want columns\n",
        "    # in the DataTable arranged (x-axis values need to be first).\n",
        "    row = ee.List(\n",
        "        [\n",
        "            img.get(\"doy\"),\n",
        "            stats.get(band + \"_p50\"),\n",
        "            stats.get(band + \"_p0\"),\n",
        "            stats.get(band + \"_p25\"),\n",
        "            stats.get(band + \"_p75\"),\n",
        "            stats.get(band + \"_p100\"),\n",
        "        ]\n",
        "    )\n",
        "\n",
        "    # Return the row as a property of an ee.Feature.\n",
        "    return ee.Feature(None, {\"row\": row})\n",
        "\n",
        "\n",
        "reduction_table = comp.map(order_percentiles)\n",
        "\n",
        "# Aggregate the 'row' properties to make a server-side 2-D array (DataTable).\n",
        "data_table_server = reduction_table.aggregate_array(\"row\")\n",
        "\n",
        "# Define column names and properties for the DataTable. The order should\n",
        "# correspond to the order in the construction of the 'row' property above.\n",
        "column_header = ee.List([[\"DOY\", \"median\", \"p0\", \"p25\", \"p75\", \"p100\"]])\n",
        "\n",
        "# Concatenate the column header to the table.\n",
        "data_table_server = column_header.cat(data_table_server)"
      ]
    },
    {
      "cell_type": "code",
      "execution_count": null,
      "id": "192",
      "metadata": {
        "id": "192"
      },
      "outputs": [],
      "source": [
        "df = chart.DataTable(data_table_server)\n",
        "df.head()"
      ]
    },
    {
      "cell_type": "code",
      "execution_count": null,
      "id": "193",
      "metadata": {
        "id": "193"
      },
      "outputs": [],
      "source": [
        "fig = chart.Chart(\n",
        "    df,\n",
        "    chart_type=\"IntervalChart\",\n",
        "    x_cols=\"DOY\",\n",
        "    y_cols=[\"p0\", \"p25\", \"median\", \"p75\", \"p100\"],\n",
        "    title=\"Annual NDVI Time Series with Inter-Annual Variance\",\n",
        "    x_label=\"Day of Year\",\n",
        "    y_label=\"Vegetation index (x1e4)\",\n",
        "    stroke_width=1,\n",
        "    fill=\"between\",\n",
        "    fill_colors=[\"#b6d1c6\", \"#83b191\", \"#83b191\", \"#b6d1c6\"],\n",
        "    fill_opacities=[0.6] * 4,\n",
        "    labels=[\"p0\", \"p25\", \"median\", \"p75\", \"p100\"],\n",
        "    display_legend=True,\n",
        "    legend_location=\"top-right\",\n",
        "    ylim=(0, 10000),\n",
        ")\n",
        "fig"
      ]
    },
    {
      "cell_type": "markdown",
      "id": "194",
      "metadata": {
        "id": "194"
      },
      "source": [
        "![](https://i.imgur.com/i8ZrGPR.png)"
      ]
    }
  ],
  "metadata": {
    "kernelspec": {
      "display_name": "Python 3 (ipykernel)",
      "language": "python",
      "name": "python3"
    },
    "language_info": {
      "codemirror_mode": {
        "name": "ipython",
        "version": 3
      },
      "file_extension": ".py",
      "mimetype": "text/x-python",
      "name": "python",
      "nbconvert_exporter": "python",
      "pygments_lexer": "ipython3",
      "version": "3.12.2"
    },
    "colab": {
      "provenance": [],
      "include_colab_link": true
    }
  },
  "nbformat": 4,
  "nbformat_minor": 5
}